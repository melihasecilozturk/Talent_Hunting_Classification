{
 "cells": [
  {
   "cell_type": "code",
   "execution_count": 1,
   "id": "3a084a68",
   "metadata": {
    "_cell_guid": "b1076dfc-b9ad-4769-8c92-a6c4dae69d19",
    "_uuid": "8f2839f25d086af736a60e9eeb907d3b93b6e0e5",
    "execution": {
     "iopub.execute_input": "2023-12-15T20:30:53.840685Z",
     "iopub.status.busy": "2023-12-15T20:30:53.840228Z",
     "iopub.status.idle": "2023-12-15T20:30:54.758820Z",
     "shell.execute_reply": "2023-12-15T20:30:54.757472Z"
    },
    "papermill": {
     "duration": 0.932735,
     "end_time": "2023-12-15T20:30:54.761718",
     "exception": false,
     "start_time": "2023-12-15T20:30:53.828983",
     "status": "completed"
    },
    "tags": []
   },
   "outputs": [
    {
     "name": "stdout",
     "output_type": "stream",
     "text": [
      "/kaggle/input/scoutium-datas/scoutium_potential_labels.csv\n",
      "/kaggle/input/scoutium-datas/scoutium_attributes.csv\n"
     ]
    }
   ],
   "source": [
    "# This Python 3 environment comes with many helpful analytics libraries installed\n",
    "# It is defined by the kaggle/python Docker image: https://github.com/kaggle/docker-python\n",
    "# For example, here's several helpful packages to load\n",
    "\n",
    "import numpy as np # linear algebra\n",
    "import pandas as pd # data processing, CSV file I/O (e.g. pd.read_csv)\n",
    "\n",
    "# Input data files are available in the read-only \"../input/\" directory\n",
    "# For example, running this (by clicking run or pressing Shift+Enter) will list all files under the input directory\n",
    "\n",
    "import os\n",
    "for dirname, _, filenames in os.walk('/kaggle/input'):\n",
    "    for filename in filenames:\n",
    "        print(os.path.join(dirname, filename))\n",
    "\n",
    "# You can write up to 20GB to the current directory (/kaggle/working/) that gets preserved as output when you create a version using \"Save & Run All\" \n",
    "# You can also write temporary files to /kaggle/temp/, but they won't be saved outside of the current session"
   ]
  },
  {
   "cell_type": "code",
   "execution_count": 2,
   "id": "04196a24",
   "metadata": {
    "execution": {
     "iopub.execute_input": "2023-12-15T20:30:54.781932Z",
     "iopub.status.busy": "2023-12-15T20:30:54.781367Z",
     "iopub.status.idle": "2023-12-15T20:30:58.799760Z",
     "shell.execute_reply": "2023-12-15T20:30:58.798570Z"
    },
    "papermill": {
     "duration": 4.032394,
     "end_time": "2023-12-15T20:30:58.803236",
     "exception": false,
     "start_time": "2023-12-15T20:30:54.770842",
     "status": "completed"
    },
    "tags": []
   },
   "outputs": [],
   "source": [
    "import numpy as np\n",
    "import pandas as pd\n",
    "import matplotlib.pyplot as plt\n",
    "import seaborn as sns\n",
    "import warnings\n",
    "from sklearn.exceptions import ConvergenceWarning\n",
    "from sklearn.ensemble import RandomForestClassifier, GradientBoostingClassifier, VotingClassifier\n",
    "from sklearn.model_selection import GridSearchCV, cross_validate, RandomizedSearchCV, validation_curve\n",
    "from xgboost import XGBClassifier\n",
    "from lightgbm import LGBMClassifier\n",
    "from catboost import CatBoostClassifier\n",
    "from sklearn.model_selection import train_test_split, cross_val_score, GridSearchCV\n",
    "from sklearn.preprocessing import MinMaxScaler, LabelEncoder, StandardScaler, RobustScaler\n",
    "\n",
    "warnings.simplefilter(action='ignore', category=FutureWarning)\n",
    "warnings.simplefilter(\"ignore\", category=ConvergenceWarning)\n",
    "\n",
    "pd.set_option('display.max_columns', None)\n",
    "# pd.set_option('display.max_rows', None)\n",
    "pd.set_option('display.width', None)\n",
    "pd.set_option('display.float_format', lambda x: '%.3f' % x)\n",
    "from sklearn.ensemble import RandomForestClassifier, GradientBoostingClassifier, VotingClassifier, AdaBoostClassifier\n",
    "from sklearn.linear_model import LogisticRegression\n",
    "from sklearn.model_selection import cross_validate, GridSearchCV\n",
    "from sklearn.neighbors import KNeighborsClassifier\n",
    "from sklearn.svm import SVC\n",
    "from sklearn.tree import DecisionTreeClassifier\n",
    "from sklearn.preprocessing import StandardScaler\n",
    "from xgboost import XGBClassifier\n",
    "from lightgbm import LGBMClassifier\n",
    "from catboost import CatBoostClassifier\n"
   ]
  },
  {
   "cell_type": "markdown",
   "id": "f7c0741e",
   "metadata": {
    "papermill": {
     "duration": 0.008486,
     "end_time": "2023-12-15T20:30:58.821148",
     "exception": false,
     "start_time": "2023-12-15T20:30:58.812662",
     "status": "completed"
    },
    "tags": []
   },
   "source": [
    "# Adım 1: scoutium_attributes.csv ve scoutium_potential_labels.csv dosyalarını okutunuz."
   ]
  },
  {
   "cell_type": "code",
   "execution_count": 3,
   "id": "ffb1a2a5",
   "metadata": {
    "execution": {
     "iopub.execute_input": "2023-12-15T20:30:58.840276Z",
     "iopub.status.busy": "2023-12-15T20:30:58.839822Z",
     "iopub.status.idle": "2023-12-15T20:30:58.889822Z",
     "shell.execute_reply": "2023-12-15T20:30:58.888874Z"
    },
    "papermill": {
     "duration": 0.062171,
     "end_time": "2023-12-15T20:30:58.892046",
     "exception": false,
     "start_time": "2023-12-15T20:30:58.829875",
     "status": "completed"
    },
    "tags": []
   },
   "outputs": [
    {
     "data": {
      "text/html": [
       "<div>\n",
       "<style scoped>\n",
       "    .dataframe tbody tr th:only-of-type {\n",
       "        vertical-align: middle;\n",
       "    }\n",
       "\n",
       "    .dataframe tbody tr th {\n",
       "        vertical-align: top;\n",
       "    }\n",
       "\n",
       "    .dataframe thead th {\n",
       "        text-align: right;\n",
       "    }\n",
       "</style>\n",
       "<table border=\"1\" class=\"dataframe\">\n",
       "  <thead>\n",
       "    <tr style=\"text-align: right;\">\n",
       "      <th></th>\n",
       "      <th>task_response_id</th>\n",
       "      <th>match_id</th>\n",
       "      <th>evaluator_id</th>\n",
       "      <th>player_id</th>\n",
       "      <th>position_id</th>\n",
       "      <th>analysis_id</th>\n",
       "      <th>attribute_id</th>\n",
       "      <th>attribute_value</th>\n",
       "    </tr>\n",
       "  </thead>\n",
       "  <tbody>\n",
       "    <tr>\n",
       "      <th>0</th>\n",
       "      <td>4915</td>\n",
       "      <td>62935</td>\n",
       "      <td>177676</td>\n",
       "      <td>1361061</td>\n",
       "      <td>2</td>\n",
       "      <td>12818495</td>\n",
       "      <td>4322</td>\n",
       "      <td>56.000</td>\n",
       "    </tr>\n",
       "    <tr>\n",
       "      <th>1</th>\n",
       "      <td>4915</td>\n",
       "      <td>62935</td>\n",
       "      <td>177676</td>\n",
       "      <td>1361061</td>\n",
       "      <td>2</td>\n",
       "      <td>12818495</td>\n",
       "      <td>4323</td>\n",
       "      <td>56.000</td>\n",
       "    </tr>\n",
       "    <tr>\n",
       "      <th>2</th>\n",
       "      <td>4915</td>\n",
       "      <td>62935</td>\n",
       "      <td>177676</td>\n",
       "      <td>1361061</td>\n",
       "      <td>2</td>\n",
       "      <td>12818495</td>\n",
       "      <td>4324</td>\n",
       "      <td>67.000</td>\n",
       "    </tr>\n",
       "    <tr>\n",
       "      <th>3</th>\n",
       "      <td>4915</td>\n",
       "      <td>62935</td>\n",
       "      <td>177676</td>\n",
       "      <td>1361061</td>\n",
       "      <td>2</td>\n",
       "      <td>12818495</td>\n",
       "      <td>4325</td>\n",
       "      <td>56.000</td>\n",
       "    </tr>\n",
       "    <tr>\n",
       "      <th>4</th>\n",
       "      <td>4915</td>\n",
       "      <td>62935</td>\n",
       "      <td>177676</td>\n",
       "      <td>1361061</td>\n",
       "      <td>2</td>\n",
       "      <td>12818495</td>\n",
       "      <td>4326</td>\n",
       "      <td>45.000</td>\n",
       "    </tr>\n",
       "  </tbody>\n",
       "</table>\n",
       "</div>"
      ],
      "text/plain": [
       "   task_response_id  match_id  evaluator_id  player_id  position_id  \\\n",
       "0              4915     62935        177676    1361061            2   \n",
       "1              4915     62935        177676    1361061            2   \n",
       "2              4915     62935        177676    1361061            2   \n",
       "3              4915     62935        177676    1361061            2   \n",
       "4              4915     62935        177676    1361061            2   \n",
       "\n",
       "   analysis_id  attribute_id  attribute_value  \n",
       "0     12818495          4322           56.000  \n",
       "1     12818495          4323           56.000  \n",
       "2     12818495          4324           67.000  \n",
       "3     12818495          4325           56.000  \n",
       "4     12818495          4326           45.000  "
      ]
     },
     "execution_count": 3,
     "metadata": {},
     "output_type": "execute_result"
    }
   ],
   "source": [
    "df1 = pd.read_csv(\"/kaggle/input/scoutium-datas/scoutium_attributes.csv\",delimiter=\";\")\n",
    "df1.head()"
   ]
  },
  {
   "cell_type": "code",
   "execution_count": 4,
   "id": "7173cbf5",
   "metadata": {
    "execution": {
     "iopub.execute_input": "2023-12-15T20:30:58.913184Z",
     "iopub.status.busy": "2023-12-15T20:30:58.912000Z",
     "iopub.status.idle": "2023-12-15T20:30:58.924090Z",
     "shell.execute_reply": "2023-12-15T20:30:58.923107Z"
    },
    "papermill": {
     "duration": 0.02526,
     "end_time": "2023-12-15T20:30:58.926643",
     "exception": false,
     "start_time": "2023-12-15T20:30:58.901383",
     "status": "completed"
    },
    "tags": []
   },
   "outputs": [],
   "source": [
    "df2 = pd.read_csv(\"/kaggle/input/scoutium-datas/scoutium_potential_labels.csv\",delimiter=\";\")"
   ]
  },
  {
   "cell_type": "markdown",
   "id": "31da25b4",
   "metadata": {
    "papermill": {
     "duration": 0.008806,
     "end_time": "2023-12-15T20:30:58.944719",
     "exception": false,
     "start_time": "2023-12-15T20:30:58.935913",
     "status": "completed"
    },
    "tags": []
   },
   "source": [
    "# Adım 2: Okutmuş olduğumuz csv dosyalarını merge fonksiyonunu kullanarak birleştiriniz."
   ]
  },
  {
   "cell_type": "code",
   "execution_count": 5,
   "id": "5319ccc7",
   "metadata": {
    "execution": {
     "iopub.execute_input": "2023-12-15T20:30:58.967058Z",
     "iopub.status.busy": "2023-12-15T20:30:58.966363Z",
     "iopub.status.idle": "2023-12-15T20:30:58.991362Z",
     "shell.execute_reply": "2023-12-15T20:30:58.990389Z"
    },
    "papermill": {
     "duration": 0.040206,
     "end_time": "2023-12-15T20:30:58.993942",
     "exception": false,
     "start_time": "2023-12-15T20:30:58.953736",
     "status": "completed"
    },
    "tags": []
   },
   "outputs": [],
   "source": [
    "df = pd.merge(df1, df2, on=['task_response_id', 'match_id', 'evaluator_id', 'player_id'])\n"
   ]
  },
  {
   "cell_type": "code",
   "execution_count": 6,
   "id": "d3abbc01",
   "metadata": {
    "execution": {
     "iopub.execute_input": "2023-12-15T20:30:59.015156Z",
     "iopub.status.busy": "2023-12-15T20:30:59.014471Z",
     "iopub.status.idle": "2023-12-15T20:30:59.026829Z",
     "shell.execute_reply": "2023-12-15T20:30:59.025906Z"
    },
    "papermill": {
     "duration": 0.025693,
     "end_time": "2023-12-15T20:30:59.029076",
     "exception": false,
     "start_time": "2023-12-15T20:30:59.003383",
     "status": "completed"
    },
    "tags": []
   },
   "outputs": [
    {
     "data": {
      "text/html": [
       "<div>\n",
       "<style scoped>\n",
       "    .dataframe tbody tr th:only-of-type {\n",
       "        vertical-align: middle;\n",
       "    }\n",
       "\n",
       "    .dataframe tbody tr th {\n",
       "        vertical-align: top;\n",
       "    }\n",
       "\n",
       "    .dataframe thead th {\n",
       "        text-align: right;\n",
       "    }\n",
       "</style>\n",
       "<table border=\"1\" class=\"dataframe\">\n",
       "  <thead>\n",
       "    <tr style=\"text-align: right;\">\n",
       "      <th></th>\n",
       "      <th>task_response_id</th>\n",
       "      <th>match_id</th>\n",
       "      <th>evaluator_id</th>\n",
       "      <th>player_id</th>\n",
       "      <th>position_id</th>\n",
       "      <th>analysis_id</th>\n",
       "      <th>attribute_id</th>\n",
       "      <th>attribute_value</th>\n",
       "      <th>potential_label</th>\n",
       "    </tr>\n",
       "  </thead>\n",
       "  <tbody>\n",
       "    <tr>\n",
       "      <th>0</th>\n",
       "      <td>4915</td>\n",
       "      <td>62935</td>\n",
       "      <td>177676</td>\n",
       "      <td>1361061</td>\n",
       "      <td>2</td>\n",
       "      <td>12818495</td>\n",
       "      <td>4322</td>\n",
       "      <td>56.000</td>\n",
       "      <td>average</td>\n",
       "    </tr>\n",
       "    <tr>\n",
       "      <th>1</th>\n",
       "      <td>4915</td>\n",
       "      <td>62935</td>\n",
       "      <td>177676</td>\n",
       "      <td>1361061</td>\n",
       "      <td>2</td>\n",
       "      <td>12818495</td>\n",
       "      <td>4323</td>\n",
       "      <td>56.000</td>\n",
       "      <td>average</td>\n",
       "    </tr>\n",
       "    <tr>\n",
       "      <th>2</th>\n",
       "      <td>4915</td>\n",
       "      <td>62935</td>\n",
       "      <td>177676</td>\n",
       "      <td>1361061</td>\n",
       "      <td>2</td>\n",
       "      <td>12818495</td>\n",
       "      <td>4324</td>\n",
       "      <td>67.000</td>\n",
       "      <td>average</td>\n",
       "    </tr>\n",
       "    <tr>\n",
       "      <th>3</th>\n",
       "      <td>4915</td>\n",
       "      <td>62935</td>\n",
       "      <td>177676</td>\n",
       "      <td>1361061</td>\n",
       "      <td>2</td>\n",
       "      <td>12818495</td>\n",
       "      <td>4325</td>\n",
       "      <td>56.000</td>\n",
       "      <td>average</td>\n",
       "    </tr>\n",
       "    <tr>\n",
       "      <th>4</th>\n",
       "      <td>4915</td>\n",
       "      <td>62935</td>\n",
       "      <td>177676</td>\n",
       "      <td>1361061</td>\n",
       "      <td>2</td>\n",
       "      <td>12818495</td>\n",
       "      <td>4326</td>\n",
       "      <td>45.000</td>\n",
       "      <td>average</td>\n",
       "    </tr>\n",
       "  </tbody>\n",
       "</table>\n",
       "</div>"
      ],
      "text/plain": [
       "   task_response_id  match_id  evaluator_id  player_id  position_id  \\\n",
       "0              4915     62935        177676    1361061            2   \n",
       "1              4915     62935        177676    1361061            2   \n",
       "2              4915     62935        177676    1361061            2   \n",
       "3              4915     62935        177676    1361061            2   \n",
       "4              4915     62935        177676    1361061            2   \n",
       "\n",
       "   analysis_id  attribute_id  attribute_value potential_label  \n",
       "0     12818495          4322           56.000         average  \n",
       "1     12818495          4323           56.000         average  \n",
       "2     12818495          4324           67.000         average  \n",
       "3     12818495          4325           56.000         average  \n",
       "4     12818495          4326           45.000         average  "
      ]
     },
     "execution_count": 6,
     "metadata": {},
     "output_type": "execute_result"
    }
   ],
   "source": [
    "df.head()"
   ]
  },
  {
   "cell_type": "markdown",
   "id": "8cc7de06",
   "metadata": {
    "papermill": {
     "duration": 0.009319,
     "end_time": "2023-12-15T20:30:59.047878",
     "exception": false,
     "start_time": "2023-12-15T20:30:59.038559",
     "status": "completed"
    },
    "tags": []
   },
   "source": [
    "# Adım 3: position_id içerisindeki Kaleci (1) sınıfını veri setinden kaldırınız."
   ]
  },
  {
   "cell_type": "code",
   "execution_count": 7,
   "id": "b4fe0fa7",
   "metadata": {
    "execution": {
     "iopub.execute_input": "2023-12-15T20:30:59.068942Z",
     "iopub.status.busy": "2023-12-15T20:30:59.068271Z",
     "iopub.status.idle": "2023-12-15T20:30:59.081124Z",
     "shell.execute_reply": "2023-12-15T20:30:59.079975Z"
    },
    "papermill": {
     "duration": 0.026482,
     "end_time": "2023-12-15T20:30:59.083592",
     "exception": false,
     "start_time": "2023-12-15T20:30:59.057110",
     "status": "completed"
    },
    "tags": []
   },
   "outputs": [
    {
     "data": {
      "text/plain": [
       "position_id\n",
       "2     1972\n",
       "6     1428\n",
       "10    1088\n",
       "8     1020\n",
       "7      986\n",
       "3      986\n",
       "4      884\n",
       "9      850\n",
       "5      816\n",
       "Name: count, dtype: int64"
      ]
     },
     "execution_count": 7,
     "metadata": {},
     "output_type": "execute_result"
    }
   ],
   "source": [
    "df = df[df.position_id != 1]\n",
    "df[\"position_id\"].value_counts()"
   ]
  },
  {
   "cell_type": "markdown",
   "id": "1421f63d",
   "metadata": {
    "papermill": {
     "duration": 0.009002,
     "end_time": "2023-12-15T20:30:59.102064",
     "exception": false,
     "start_time": "2023-12-15T20:30:59.093062",
     "status": "completed"
    },
    "tags": []
   },
   "source": [
    "# Adım 4: potential_label içerisindeki below_average sınıfını veri setinden kaldırınız.( below_average sınıfı tüm verisetinin %1'ini oluşturur)"
   ]
  },
  {
   "cell_type": "code",
   "execution_count": 8,
   "id": "205437bc",
   "metadata": {
    "execution": {
     "iopub.execute_input": "2023-12-15T20:30:59.125723Z",
     "iopub.status.busy": "2023-12-15T20:30:59.125259Z",
     "iopub.status.idle": "2023-12-15T20:30:59.137868Z",
     "shell.execute_reply": "2023-12-15T20:30:59.136705Z"
    },
    "papermill": {
     "duration": 0.027853,
     "end_time": "2023-12-15T20:30:59.139993",
     "exception": false,
     "start_time": "2023-12-15T20:30:59.112140",
     "status": "completed"
    },
    "tags": []
   },
   "outputs": [
    {
     "data": {
      "text/plain": [
       "array(['average', 'highlighted'], dtype=object)"
      ]
     },
     "execution_count": 8,
     "metadata": {},
     "output_type": "execute_result"
    }
   ],
   "source": [
    "df = df[~df[\"potential_label\"].isin([\"below_average\"])]\n",
    "df[\"potential_label\"].unique()"
   ]
  },
  {
   "cell_type": "markdown",
   "id": "df8c650c",
   "metadata": {
    "papermill": {
     "duration": 0.009085,
     "end_time": "2023-12-15T20:30:59.158649",
     "exception": false,
     "start_time": "2023-12-15T20:30:59.149564",
     "status": "completed"
    },
    "tags": []
   },
   "source": [
    "# Adım 5: Oluşturduğunuz veri setinden “pivot_table” fonksiyonunu \n",
    "# kullanarak bir tablo oluşturunuz. Bu pivot table'da her satırda bir oyuncu\n",
    "# olacak şekilde manipülasyon yapınız.\n",
    "# Adım 5.1: İndekste “player_id”,“position_id” ve “potential_label”, \n",
    "# sütunlarda “attribute_id” ve değerlerde scout’ların oyunculara verdiği puan\n",
    "# “attribute_value” olacak şekilde pivot table’ı oluşturunuz.\n",
    "# Adım 2: “reset_index” fonksiyonunu kullanarak indeksleri değişken olarak \n",
    "# atayınız ve “attribute_id” sütunlarının isimlerini stringe çeviriniz."
   ]
  },
  {
   "cell_type": "code",
   "execution_count": 9,
   "id": "a67965b4",
   "metadata": {
    "execution": {
     "iopub.execute_input": "2023-12-15T20:30:59.179418Z",
     "iopub.status.busy": "2023-12-15T20:30:59.178975Z",
     "iopub.status.idle": "2023-12-15T20:30:59.230355Z",
     "shell.execute_reply": "2023-12-15T20:30:59.229163Z"
    },
    "papermill": {
     "duration": 0.065032,
     "end_time": "2023-12-15T20:30:59.233025",
     "exception": false,
     "start_time": "2023-12-15T20:30:59.167993",
     "status": "completed"
    },
    "tags": []
   },
   "outputs": [
    {
     "data": {
      "text/html": [
       "<div>\n",
       "<style scoped>\n",
       "    .dataframe tbody tr th:only-of-type {\n",
       "        vertical-align: middle;\n",
       "    }\n",
       "\n",
       "    .dataframe tbody tr th {\n",
       "        vertical-align: top;\n",
       "    }\n",
       "\n",
       "    .dataframe thead th {\n",
       "        text-align: right;\n",
       "    }\n",
       "</style>\n",
       "<table border=\"1\" class=\"dataframe\">\n",
       "  <thead>\n",
       "    <tr style=\"text-align: right;\">\n",
       "      <th></th>\n",
       "      <th></th>\n",
       "      <th>attribute_id</th>\n",
       "      <th>4322</th>\n",
       "      <th>4323</th>\n",
       "      <th>4324</th>\n",
       "      <th>4325</th>\n",
       "      <th>4326</th>\n",
       "      <th>4327</th>\n",
       "      <th>4328</th>\n",
       "      <th>4329</th>\n",
       "      <th>4330</th>\n",
       "      <th>4332</th>\n",
       "      <th>4333</th>\n",
       "      <th>4335</th>\n",
       "      <th>4338</th>\n",
       "      <th>4339</th>\n",
       "      <th>4340</th>\n",
       "      <th>4341</th>\n",
       "      <th>4342</th>\n",
       "      <th>4343</th>\n",
       "      <th>4344</th>\n",
       "      <th>4345</th>\n",
       "      <th>4348</th>\n",
       "      <th>4349</th>\n",
       "      <th>4350</th>\n",
       "      <th>4351</th>\n",
       "      <th>4352</th>\n",
       "      <th>4353</th>\n",
       "      <th>4354</th>\n",
       "      <th>4355</th>\n",
       "      <th>4356</th>\n",
       "      <th>4357</th>\n",
       "      <th>4407</th>\n",
       "      <th>4408</th>\n",
       "      <th>4423</th>\n",
       "      <th>4426</th>\n",
       "    </tr>\n",
       "    <tr>\n",
       "      <th>player_id</th>\n",
       "      <th>position_id</th>\n",
       "      <th>potential_label</th>\n",
       "      <th></th>\n",
       "      <th></th>\n",
       "      <th></th>\n",
       "      <th></th>\n",
       "      <th></th>\n",
       "      <th></th>\n",
       "      <th></th>\n",
       "      <th></th>\n",
       "      <th></th>\n",
       "      <th></th>\n",
       "      <th></th>\n",
       "      <th></th>\n",
       "      <th></th>\n",
       "      <th></th>\n",
       "      <th></th>\n",
       "      <th></th>\n",
       "      <th></th>\n",
       "      <th></th>\n",
       "      <th></th>\n",
       "      <th></th>\n",
       "      <th></th>\n",
       "      <th></th>\n",
       "      <th></th>\n",
       "      <th></th>\n",
       "      <th></th>\n",
       "      <th></th>\n",
       "      <th></th>\n",
       "      <th></th>\n",
       "      <th></th>\n",
       "      <th></th>\n",
       "      <th></th>\n",
       "      <th></th>\n",
       "      <th></th>\n",
       "      <th></th>\n",
       "    </tr>\n",
       "  </thead>\n",
       "  <tbody>\n",
       "    <tr>\n",
       "      <th>1355710</th>\n",
       "      <th>7</th>\n",
       "      <th>average</th>\n",
       "      <td>50.500</td>\n",
       "      <td>50.500</td>\n",
       "      <td>34.000</td>\n",
       "      <td>50.500</td>\n",
       "      <td>45.000</td>\n",
       "      <td>45.000</td>\n",
       "      <td>45.000</td>\n",
       "      <td>45.000</td>\n",
       "      <td>50.500</td>\n",
       "      <td>56.000</td>\n",
       "      <td>39.500</td>\n",
       "      <td>34.000</td>\n",
       "      <td>39.500</td>\n",
       "      <td>39.500</td>\n",
       "      <td>45.000</td>\n",
       "      <td>45.000</td>\n",
       "      <td>50.500</td>\n",
       "      <td>28.500</td>\n",
       "      <td>23.000</td>\n",
       "      <td>39.500</td>\n",
       "      <td>28.500</td>\n",
       "      <td>28.500</td>\n",
       "      <td>45.000</td>\n",
       "      <td>50.500</td>\n",
       "      <td>56.000</td>\n",
       "      <td>34.000</td>\n",
       "      <td>39.500</td>\n",
       "      <td>50.500</td>\n",
       "      <td>34.000</td>\n",
       "      <td>34.000</td>\n",
       "      <td>56.000</td>\n",
       "      <td>34.000</td>\n",
       "      <td>34.000</td>\n",
       "      <td>56.000</td>\n",
       "    </tr>\n",
       "    <tr>\n",
       "      <th>1356362</th>\n",
       "      <th>9</th>\n",
       "      <th>average</th>\n",
       "      <td>67.000</td>\n",
       "      <td>67.000</td>\n",
       "      <td>67.000</td>\n",
       "      <td>67.000</td>\n",
       "      <td>67.000</td>\n",
       "      <td>67.000</td>\n",
       "      <td>67.000</td>\n",
       "      <td>67.000</td>\n",
       "      <td>67.000</td>\n",
       "      <td>67.000</td>\n",
       "      <td>67.000</td>\n",
       "      <td>67.000</td>\n",
       "      <td>67.000</td>\n",
       "      <td>67.000</td>\n",
       "      <td>67.000</td>\n",
       "      <td>67.000</td>\n",
       "      <td>67.000</td>\n",
       "      <td>67.000</td>\n",
       "      <td>56.000</td>\n",
       "      <td>67.000</td>\n",
       "      <td>67.000</td>\n",
       "      <td>56.000</td>\n",
       "      <td>67.000</td>\n",
       "      <td>67.000</td>\n",
       "      <td>67.000</td>\n",
       "      <td>67.000</td>\n",
       "      <td>78.000</td>\n",
       "      <td>67.000</td>\n",
       "      <td>67.000</td>\n",
       "      <td>67.000</td>\n",
       "      <td>67.000</td>\n",
       "      <td>67.000</td>\n",
       "      <td>56.000</td>\n",
       "      <td>78.000</td>\n",
       "    </tr>\n",
       "    <tr>\n",
       "      <th rowspan=\"2\" valign=\"top\">1356375</th>\n",
       "      <th>3</th>\n",
       "      <th>average</th>\n",
       "      <td>67.000</td>\n",
       "      <td>67.000</td>\n",
       "      <td>67.000</td>\n",
       "      <td>67.000</td>\n",
       "      <td>67.000</td>\n",
       "      <td>67.000</td>\n",
       "      <td>67.000</td>\n",
       "      <td>78.000</td>\n",
       "      <td>67.000</td>\n",
       "      <td>67.000</td>\n",
       "      <td>78.000</td>\n",
       "      <td>56.000</td>\n",
       "      <td>67.000</td>\n",
       "      <td>67.000</td>\n",
       "      <td>67.000</td>\n",
       "      <td>67.000</td>\n",
       "      <td>67.000</td>\n",
       "      <td>56.000</td>\n",
       "      <td>56.000</td>\n",
       "      <td>67.000</td>\n",
       "      <td>67.000</td>\n",
       "      <td>56.000</td>\n",
       "      <td>56.000</td>\n",
       "      <td>67.000</td>\n",
       "      <td>67.000</td>\n",
       "      <td>67.000</td>\n",
       "      <td>78.000</td>\n",
       "      <td>67.000</td>\n",
       "      <td>67.000</td>\n",
       "      <td>67.000</td>\n",
       "      <td>67.000</td>\n",
       "      <td>67.000</td>\n",
       "      <td>56.000</td>\n",
       "      <td>78.000</td>\n",
       "    </tr>\n",
       "    <tr>\n",
       "      <th>4</th>\n",
       "      <th>average</th>\n",
       "      <td>67.000</td>\n",
       "      <td>78.000</td>\n",
       "      <td>67.000</td>\n",
       "      <td>67.000</td>\n",
       "      <td>67.000</td>\n",
       "      <td>78.000</td>\n",
       "      <td>78.000</td>\n",
       "      <td>78.000</td>\n",
       "      <td>56.000</td>\n",
       "      <td>67.000</td>\n",
       "      <td>67.000</td>\n",
       "      <td>67.000</td>\n",
       "      <td>78.000</td>\n",
       "      <td>78.000</td>\n",
       "      <td>56.000</td>\n",
       "      <td>67.000</td>\n",
       "      <td>67.000</td>\n",
       "      <td>45.000</td>\n",
       "      <td>45.000</td>\n",
       "      <td>56.000</td>\n",
       "      <td>67.000</td>\n",
       "      <td>67.000</td>\n",
       "      <td>67.000</td>\n",
       "      <td>67.000</td>\n",
       "      <td>78.000</td>\n",
       "      <td>67.000</td>\n",
       "      <td>67.000</td>\n",
       "      <td>67.000</td>\n",
       "      <td>56.000</td>\n",
       "      <td>67.000</td>\n",
       "      <td>56.000</td>\n",
       "      <td>67.000</td>\n",
       "      <td>45.000</td>\n",
       "      <td>56.000</td>\n",
       "    </tr>\n",
       "    <tr>\n",
       "      <th>1356411</th>\n",
       "      <th>9</th>\n",
       "      <th>average</th>\n",
       "      <td>67.000</td>\n",
       "      <td>67.000</td>\n",
       "      <td>78.000</td>\n",
       "      <td>78.000</td>\n",
       "      <td>67.000</td>\n",
       "      <td>67.000</td>\n",
       "      <td>67.000</td>\n",
       "      <td>67.000</td>\n",
       "      <td>89.000</td>\n",
       "      <td>78.000</td>\n",
       "      <td>67.000</td>\n",
       "      <td>67.000</td>\n",
       "      <td>67.000</td>\n",
       "      <td>56.000</td>\n",
       "      <td>56.000</td>\n",
       "      <td>67.000</td>\n",
       "      <td>78.000</td>\n",
       "      <td>56.000</td>\n",
       "      <td>56.000</td>\n",
       "      <td>67.000</td>\n",
       "      <td>56.000</td>\n",
       "      <td>67.000</td>\n",
       "      <td>56.000</td>\n",
       "      <td>67.000</td>\n",
       "      <td>67.000</td>\n",
       "      <td>56.000</td>\n",
       "      <td>67.000</td>\n",
       "      <td>67.000</td>\n",
       "      <td>56.000</td>\n",
       "      <td>67.000</td>\n",
       "      <td>89.000</td>\n",
       "      <td>56.000</td>\n",
       "      <td>67.000</td>\n",
       "      <td>78.000</td>\n",
       "    </tr>\n",
       "  </tbody>\n",
       "</table>\n",
       "</div>"
      ],
      "text/plain": [
       "attribute_id                            4322   4323   4324   4325   4326  \\\n",
       "player_id position_id potential_label                                      \n",
       "1355710   7           average         50.500 50.500 34.000 50.500 45.000   \n",
       "1356362   9           average         67.000 67.000 67.000 67.000 67.000   \n",
       "1356375   3           average         67.000 67.000 67.000 67.000 67.000   \n",
       "          4           average         67.000 78.000 67.000 67.000 67.000   \n",
       "1356411   9           average         67.000 67.000 78.000 78.000 67.000   \n",
       "\n",
       "attribute_id                            4327   4328   4329   4330   4332  \\\n",
       "player_id position_id potential_label                                      \n",
       "1355710   7           average         45.000 45.000 45.000 50.500 56.000   \n",
       "1356362   9           average         67.000 67.000 67.000 67.000 67.000   \n",
       "1356375   3           average         67.000 67.000 78.000 67.000 67.000   \n",
       "          4           average         78.000 78.000 78.000 56.000 67.000   \n",
       "1356411   9           average         67.000 67.000 67.000 89.000 78.000   \n",
       "\n",
       "attribute_id                            4333   4335   4338   4339   4340  \\\n",
       "player_id position_id potential_label                                      \n",
       "1355710   7           average         39.500 34.000 39.500 39.500 45.000   \n",
       "1356362   9           average         67.000 67.000 67.000 67.000 67.000   \n",
       "1356375   3           average         78.000 56.000 67.000 67.000 67.000   \n",
       "          4           average         67.000 67.000 78.000 78.000 56.000   \n",
       "1356411   9           average         67.000 67.000 67.000 56.000 56.000   \n",
       "\n",
       "attribute_id                            4341   4342   4343   4344   4345  \\\n",
       "player_id position_id potential_label                                      \n",
       "1355710   7           average         45.000 50.500 28.500 23.000 39.500   \n",
       "1356362   9           average         67.000 67.000 67.000 56.000 67.000   \n",
       "1356375   3           average         67.000 67.000 56.000 56.000 67.000   \n",
       "          4           average         67.000 67.000 45.000 45.000 56.000   \n",
       "1356411   9           average         67.000 78.000 56.000 56.000 67.000   \n",
       "\n",
       "attribute_id                            4348   4349   4350   4351   4352  \\\n",
       "player_id position_id potential_label                                      \n",
       "1355710   7           average         28.500 28.500 45.000 50.500 56.000   \n",
       "1356362   9           average         67.000 56.000 67.000 67.000 67.000   \n",
       "1356375   3           average         67.000 56.000 56.000 67.000 67.000   \n",
       "          4           average         67.000 67.000 67.000 67.000 78.000   \n",
       "1356411   9           average         56.000 67.000 56.000 67.000 67.000   \n",
       "\n",
       "attribute_id                            4353   4354   4355   4356   4357  \\\n",
       "player_id position_id potential_label                                      \n",
       "1355710   7           average         34.000 39.500 50.500 34.000 34.000   \n",
       "1356362   9           average         67.000 78.000 67.000 67.000 67.000   \n",
       "1356375   3           average         67.000 78.000 67.000 67.000 67.000   \n",
       "          4           average         67.000 67.000 67.000 56.000 67.000   \n",
       "1356411   9           average         56.000 67.000 67.000 56.000 67.000   \n",
       "\n",
       "attribute_id                            4407   4408   4423   4426  \n",
       "player_id position_id potential_label                              \n",
       "1355710   7           average         56.000 34.000 34.000 56.000  \n",
       "1356362   9           average         67.000 67.000 56.000 78.000  \n",
       "1356375   3           average         67.000 67.000 56.000 78.000  \n",
       "          4           average         56.000 67.000 45.000 56.000  \n",
       "1356411   9           average         89.000 56.000 67.000 78.000  "
      ]
     },
     "execution_count": 9,
     "metadata": {},
     "output_type": "execute_result"
    }
   ],
   "source": [
    "df_table = df.pivot_table(\"attribute_value\", [\"player_id\", \"position_id\" , \"potential_label\"] , \"attribute_id\")\n",
    "\n",
    "df_table.head()"
   ]
  },
  {
   "cell_type": "code",
   "execution_count": 10,
   "id": "6745b313",
   "metadata": {
    "execution": {
     "iopub.execute_input": "2023-12-15T20:30:59.255462Z",
     "iopub.status.busy": "2023-12-15T20:30:59.254436Z",
     "iopub.status.idle": "2023-12-15T20:30:59.261959Z",
     "shell.execute_reply": "2023-12-15T20:30:59.261002Z"
    },
    "papermill": {
     "duration": 0.021165,
     "end_time": "2023-12-15T20:30:59.264057",
     "exception": false,
     "start_time": "2023-12-15T20:30:59.242892",
     "status": "completed"
    },
    "tags": []
   },
   "outputs": [],
   "source": [
    "df_table = df_table.reset_index()"
   ]
  },
  {
   "cell_type": "code",
   "execution_count": 11,
   "id": "2411823c",
   "metadata": {
    "execution": {
     "iopub.execute_input": "2023-12-15T20:30:59.286208Z",
     "iopub.status.busy": "2023-12-15T20:30:59.285435Z",
     "iopub.status.idle": "2023-12-15T20:30:59.308753Z",
     "shell.execute_reply": "2023-12-15T20:30:59.307499Z"
    },
    "papermill": {
     "duration": 0.037351,
     "end_time": "2023-12-15T20:30:59.311346",
     "exception": false,
     "start_time": "2023-12-15T20:30:59.273995",
     "status": "completed"
    },
    "tags": []
   },
   "outputs": [
    {
     "data": {
      "text/html": [
       "<div>\n",
       "<style scoped>\n",
       "    .dataframe tbody tr th:only-of-type {\n",
       "        vertical-align: middle;\n",
       "    }\n",
       "\n",
       "    .dataframe tbody tr th {\n",
       "        vertical-align: top;\n",
       "    }\n",
       "\n",
       "    .dataframe thead th {\n",
       "        text-align: right;\n",
       "    }\n",
       "</style>\n",
       "<table border=\"1\" class=\"dataframe\">\n",
       "  <thead>\n",
       "    <tr style=\"text-align: right;\">\n",
       "      <th>attribute_id</th>\n",
       "      <th>player_id</th>\n",
       "      <th>position_id</th>\n",
       "      <th>potential_label</th>\n",
       "      <th>4322</th>\n",
       "      <th>4323</th>\n",
       "      <th>4324</th>\n",
       "      <th>4325</th>\n",
       "      <th>4326</th>\n",
       "      <th>4327</th>\n",
       "      <th>4328</th>\n",
       "      <th>4329</th>\n",
       "      <th>4330</th>\n",
       "      <th>4332</th>\n",
       "      <th>4333</th>\n",
       "      <th>4335</th>\n",
       "      <th>4338</th>\n",
       "      <th>4339</th>\n",
       "      <th>4340</th>\n",
       "      <th>4341</th>\n",
       "      <th>4342</th>\n",
       "      <th>4343</th>\n",
       "      <th>4344</th>\n",
       "      <th>4345</th>\n",
       "      <th>4348</th>\n",
       "      <th>4349</th>\n",
       "      <th>4350</th>\n",
       "      <th>4351</th>\n",
       "      <th>4352</th>\n",
       "      <th>4353</th>\n",
       "      <th>4354</th>\n",
       "      <th>4355</th>\n",
       "      <th>4356</th>\n",
       "      <th>4357</th>\n",
       "      <th>4407</th>\n",
       "      <th>4408</th>\n",
       "      <th>4423</th>\n",
       "      <th>4426</th>\n",
       "    </tr>\n",
       "  </thead>\n",
       "  <tbody>\n",
       "    <tr>\n",
       "      <th>0</th>\n",
       "      <td>1355710</td>\n",
       "      <td>7</td>\n",
       "      <td>average</td>\n",
       "      <td>50.500</td>\n",
       "      <td>50.500</td>\n",
       "      <td>34.000</td>\n",
       "      <td>50.500</td>\n",
       "      <td>45.000</td>\n",
       "      <td>45.000</td>\n",
       "      <td>45.000</td>\n",
       "      <td>45.000</td>\n",
       "      <td>50.500</td>\n",
       "      <td>56.000</td>\n",
       "      <td>39.500</td>\n",
       "      <td>34.000</td>\n",
       "      <td>39.500</td>\n",
       "      <td>39.500</td>\n",
       "      <td>45.000</td>\n",
       "      <td>45.000</td>\n",
       "      <td>50.500</td>\n",
       "      <td>28.500</td>\n",
       "      <td>23.000</td>\n",
       "      <td>39.500</td>\n",
       "      <td>28.500</td>\n",
       "      <td>28.500</td>\n",
       "      <td>45.000</td>\n",
       "      <td>50.500</td>\n",
       "      <td>56.000</td>\n",
       "      <td>34.000</td>\n",
       "      <td>39.500</td>\n",
       "      <td>50.500</td>\n",
       "      <td>34.000</td>\n",
       "      <td>34.000</td>\n",
       "      <td>56.000</td>\n",
       "      <td>34.000</td>\n",
       "      <td>34.000</td>\n",
       "      <td>56.000</td>\n",
       "    </tr>\n",
       "    <tr>\n",
       "      <th>1</th>\n",
       "      <td>1356362</td>\n",
       "      <td>9</td>\n",
       "      <td>average</td>\n",
       "      <td>67.000</td>\n",
       "      <td>67.000</td>\n",
       "      <td>67.000</td>\n",
       "      <td>67.000</td>\n",
       "      <td>67.000</td>\n",
       "      <td>67.000</td>\n",
       "      <td>67.000</td>\n",
       "      <td>67.000</td>\n",
       "      <td>67.000</td>\n",
       "      <td>67.000</td>\n",
       "      <td>67.000</td>\n",
       "      <td>67.000</td>\n",
       "      <td>67.000</td>\n",
       "      <td>67.000</td>\n",
       "      <td>67.000</td>\n",
       "      <td>67.000</td>\n",
       "      <td>67.000</td>\n",
       "      <td>67.000</td>\n",
       "      <td>56.000</td>\n",
       "      <td>67.000</td>\n",
       "      <td>67.000</td>\n",
       "      <td>56.000</td>\n",
       "      <td>67.000</td>\n",
       "      <td>67.000</td>\n",
       "      <td>67.000</td>\n",
       "      <td>67.000</td>\n",
       "      <td>78.000</td>\n",
       "      <td>67.000</td>\n",
       "      <td>67.000</td>\n",
       "      <td>67.000</td>\n",
       "      <td>67.000</td>\n",
       "      <td>67.000</td>\n",
       "      <td>56.000</td>\n",
       "      <td>78.000</td>\n",
       "    </tr>\n",
       "    <tr>\n",
       "      <th>2</th>\n",
       "      <td>1356375</td>\n",
       "      <td>3</td>\n",
       "      <td>average</td>\n",
       "      <td>67.000</td>\n",
       "      <td>67.000</td>\n",
       "      <td>67.000</td>\n",
       "      <td>67.000</td>\n",
       "      <td>67.000</td>\n",
       "      <td>67.000</td>\n",
       "      <td>67.000</td>\n",
       "      <td>78.000</td>\n",
       "      <td>67.000</td>\n",
       "      <td>67.000</td>\n",
       "      <td>78.000</td>\n",
       "      <td>56.000</td>\n",
       "      <td>67.000</td>\n",
       "      <td>67.000</td>\n",
       "      <td>67.000</td>\n",
       "      <td>67.000</td>\n",
       "      <td>67.000</td>\n",
       "      <td>56.000</td>\n",
       "      <td>56.000</td>\n",
       "      <td>67.000</td>\n",
       "      <td>67.000</td>\n",
       "      <td>56.000</td>\n",
       "      <td>56.000</td>\n",
       "      <td>67.000</td>\n",
       "      <td>67.000</td>\n",
       "      <td>67.000</td>\n",
       "      <td>78.000</td>\n",
       "      <td>67.000</td>\n",
       "      <td>67.000</td>\n",
       "      <td>67.000</td>\n",
       "      <td>67.000</td>\n",
       "      <td>67.000</td>\n",
       "      <td>56.000</td>\n",
       "      <td>78.000</td>\n",
       "    </tr>\n",
       "    <tr>\n",
       "      <th>3</th>\n",
       "      <td>1356375</td>\n",
       "      <td>4</td>\n",
       "      <td>average</td>\n",
       "      <td>67.000</td>\n",
       "      <td>78.000</td>\n",
       "      <td>67.000</td>\n",
       "      <td>67.000</td>\n",
       "      <td>67.000</td>\n",
       "      <td>78.000</td>\n",
       "      <td>78.000</td>\n",
       "      <td>78.000</td>\n",
       "      <td>56.000</td>\n",
       "      <td>67.000</td>\n",
       "      <td>67.000</td>\n",
       "      <td>67.000</td>\n",
       "      <td>78.000</td>\n",
       "      <td>78.000</td>\n",
       "      <td>56.000</td>\n",
       "      <td>67.000</td>\n",
       "      <td>67.000</td>\n",
       "      <td>45.000</td>\n",
       "      <td>45.000</td>\n",
       "      <td>56.000</td>\n",
       "      <td>67.000</td>\n",
       "      <td>67.000</td>\n",
       "      <td>67.000</td>\n",
       "      <td>67.000</td>\n",
       "      <td>78.000</td>\n",
       "      <td>67.000</td>\n",
       "      <td>67.000</td>\n",
       "      <td>67.000</td>\n",
       "      <td>56.000</td>\n",
       "      <td>67.000</td>\n",
       "      <td>56.000</td>\n",
       "      <td>67.000</td>\n",
       "      <td>45.000</td>\n",
       "      <td>56.000</td>\n",
       "    </tr>\n",
       "    <tr>\n",
       "      <th>4</th>\n",
       "      <td>1356411</td>\n",
       "      <td>9</td>\n",
       "      <td>average</td>\n",
       "      <td>67.000</td>\n",
       "      <td>67.000</td>\n",
       "      <td>78.000</td>\n",
       "      <td>78.000</td>\n",
       "      <td>67.000</td>\n",
       "      <td>67.000</td>\n",
       "      <td>67.000</td>\n",
       "      <td>67.000</td>\n",
       "      <td>89.000</td>\n",
       "      <td>78.000</td>\n",
       "      <td>67.000</td>\n",
       "      <td>67.000</td>\n",
       "      <td>67.000</td>\n",
       "      <td>56.000</td>\n",
       "      <td>56.000</td>\n",
       "      <td>67.000</td>\n",
       "      <td>78.000</td>\n",
       "      <td>56.000</td>\n",
       "      <td>56.000</td>\n",
       "      <td>67.000</td>\n",
       "      <td>56.000</td>\n",
       "      <td>67.000</td>\n",
       "      <td>56.000</td>\n",
       "      <td>67.000</td>\n",
       "      <td>67.000</td>\n",
       "      <td>56.000</td>\n",
       "      <td>67.000</td>\n",
       "      <td>67.000</td>\n",
       "      <td>56.000</td>\n",
       "      <td>67.000</td>\n",
       "      <td>89.000</td>\n",
       "      <td>56.000</td>\n",
       "      <td>67.000</td>\n",
       "      <td>78.000</td>\n",
       "    </tr>\n",
       "  </tbody>\n",
       "</table>\n",
       "</div>"
      ],
      "text/plain": [
       "attribute_id  player_id  position_id potential_label   4322   4323   4324  \\\n",
       "0               1355710            7         average 50.500 50.500 34.000   \n",
       "1               1356362            9         average 67.000 67.000 67.000   \n",
       "2               1356375            3         average 67.000 67.000 67.000   \n",
       "3               1356375            4         average 67.000 78.000 67.000   \n",
       "4               1356411            9         average 67.000 67.000 78.000   \n",
       "\n",
       "attribute_id   4325   4326   4327   4328   4329   4330   4332   4333   4335  \\\n",
       "0            50.500 45.000 45.000 45.000 45.000 50.500 56.000 39.500 34.000   \n",
       "1            67.000 67.000 67.000 67.000 67.000 67.000 67.000 67.000 67.000   \n",
       "2            67.000 67.000 67.000 67.000 78.000 67.000 67.000 78.000 56.000   \n",
       "3            67.000 67.000 78.000 78.000 78.000 56.000 67.000 67.000 67.000   \n",
       "4            78.000 67.000 67.000 67.000 67.000 89.000 78.000 67.000 67.000   \n",
       "\n",
       "attribute_id   4338   4339   4340   4341   4342   4343   4344   4345   4348  \\\n",
       "0            39.500 39.500 45.000 45.000 50.500 28.500 23.000 39.500 28.500   \n",
       "1            67.000 67.000 67.000 67.000 67.000 67.000 56.000 67.000 67.000   \n",
       "2            67.000 67.000 67.000 67.000 67.000 56.000 56.000 67.000 67.000   \n",
       "3            78.000 78.000 56.000 67.000 67.000 45.000 45.000 56.000 67.000   \n",
       "4            67.000 56.000 56.000 67.000 78.000 56.000 56.000 67.000 56.000   \n",
       "\n",
       "attribute_id   4349   4350   4351   4352   4353   4354   4355   4356   4357  \\\n",
       "0            28.500 45.000 50.500 56.000 34.000 39.500 50.500 34.000 34.000   \n",
       "1            56.000 67.000 67.000 67.000 67.000 78.000 67.000 67.000 67.000   \n",
       "2            56.000 56.000 67.000 67.000 67.000 78.000 67.000 67.000 67.000   \n",
       "3            67.000 67.000 67.000 78.000 67.000 67.000 67.000 56.000 67.000   \n",
       "4            67.000 56.000 67.000 67.000 56.000 67.000 67.000 56.000 67.000   \n",
       "\n",
       "attribute_id   4407   4408   4423   4426  \n",
       "0            56.000 34.000 34.000 56.000  \n",
       "1            67.000 67.000 56.000 78.000  \n",
       "2            67.000 67.000 56.000 78.000  \n",
       "3            56.000 67.000 45.000 56.000  \n",
       "4            89.000 56.000 67.000 78.000  "
      ]
     },
     "execution_count": 11,
     "metadata": {},
     "output_type": "execute_result"
    }
   ],
   "source": [
    "df_table.head()"
   ]
  },
  {
   "cell_type": "code",
   "execution_count": 12,
   "id": "5332d7e7",
   "metadata": {
    "execution": {
     "iopub.execute_input": "2023-12-15T20:30:59.334241Z",
     "iopub.status.busy": "2023-12-15T20:30:59.333777Z",
     "iopub.status.idle": "2023-12-15T20:30:59.338943Z",
     "shell.execute_reply": "2023-12-15T20:30:59.337727Z"
    },
    "papermill": {
     "duration": 0.019396,
     "end_time": "2023-12-15T20:30:59.341236",
     "exception": false,
     "start_time": "2023-12-15T20:30:59.321840",
     "status": "completed"
    },
    "tags": []
   },
   "outputs": [],
   "source": [
    "df_table.columns = df_table.columns.map(str)"
   ]
  },
  {
   "cell_type": "markdown",
   "id": "accc3ebb",
   "metadata": {
    "papermill": {
     "duration": 0.010253,
     "end_time": "2023-12-15T20:30:59.362316",
     "exception": false,
     "start_time": "2023-12-15T20:30:59.352063",
     "status": "completed"
    },
    "tags": []
   },
   "source": [
    "# Adım 6: Label Encoder fonksiyonunu kullanarak “potential_label” \n",
    "# kategorilerini (average, highlighted) sayısal olarak ifade ediniz."
   ]
  },
  {
   "cell_type": "code",
   "execution_count": 13,
   "id": "60a7cb9f",
   "metadata": {
    "execution": {
     "iopub.execute_input": "2023-12-15T20:30:59.385059Z",
     "iopub.status.busy": "2023-12-15T20:30:59.384283Z",
     "iopub.status.idle": "2023-12-15T20:30:59.411273Z",
     "shell.execute_reply": "2023-12-15T20:30:59.410104Z"
    },
    "papermill": {
     "duration": 0.040834,
     "end_time": "2023-12-15T20:30:59.413541",
     "exception": false,
     "start_time": "2023-12-15T20:30:59.372707",
     "status": "completed"
    },
    "tags": []
   },
   "outputs": [
    {
     "data": {
      "text/html": [
       "<div>\n",
       "<style scoped>\n",
       "    .dataframe tbody tr th:only-of-type {\n",
       "        vertical-align: middle;\n",
       "    }\n",
       "\n",
       "    .dataframe tbody tr th {\n",
       "        vertical-align: top;\n",
       "    }\n",
       "\n",
       "    .dataframe thead th {\n",
       "        text-align: right;\n",
       "    }\n",
       "</style>\n",
       "<table border=\"1\" class=\"dataframe\">\n",
       "  <thead>\n",
       "    <tr style=\"text-align: right;\">\n",
       "      <th>attribute_id</th>\n",
       "      <th>player_id</th>\n",
       "      <th>position_id</th>\n",
       "      <th>potential_label</th>\n",
       "      <th>4322</th>\n",
       "      <th>4323</th>\n",
       "      <th>4324</th>\n",
       "      <th>4325</th>\n",
       "      <th>4326</th>\n",
       "      <th>4327</th>\n",
       "      <th>4328</th>\n",
       "      <th>4329</th>\n",
       "      <th>4330</th>\n",
       "      <th>4332</th>\n",
       "      <th>4333</th>\n",
       "      <th>4335</th>\n",
       "      <th>4338</th>\n",
       "      <th>4339</th>\n",
       "      <th>4340</th>\n",
       "      <th>4341</th>\n",
       "      <th>4342</th>\n",
       "      <th>4343</th>\n",
       "      <th>4344</th>\n",
       "      <th>4345</th>\n",
       "      <th>4348</th>\n",
       "      <th>4349</th>\n",
       "      <th>4350</th>\n",
       "      <th>4351</th>\n",
       "      <th>4352</th>\n",
       "      <th>4353</th>\n",
       "      <th>4354</th>\n",
       "      <th>4355</th>\n",
       "      <th>4356</th>\n",
       "      <th>4357</th>\n",
       "      <th>4407</th>\n",
       "      <th>4408</th>\n",
       "      <th>4423</th>\n",
       "      <th>4426</th>\n",
       "    </tr>\n",
       "  </thead>\n",
       "  <tbody>\n",
       "    <tr>\n",
       "      <th>0</th>\n",
       "      <td>1355710</td>\n",
       "      <td>7</td>\n",
       "      <td>0</td>\n",
       "      <td>50.500</td>\n",
       "      <td>50.500</td>\n",
       "      <td>34.000</td>\n",
       "      <td>50.500</td>\n",
       "      <td>45.000</td>\n",
       "      <td>45.000</td>\n",
       "      <td>45.000</td>\n",
       "      <td>45.000</td>\n",
       "      <td>50.500</td>\n",
       "      <td>56.000</td>\n",
       "      <td>39.500</td>\n",
       "      <td>34.000</td>\n",
       "      <td>39.500</td>\n",
       "      <td>39.500</td>\n",
       "      <td>45.000</td>\n",
       "      <td>45.000</td>\n",
       "      <td>50.500</td>\n",
       "      <td>28.500</td>\n",
       "      <td>23.000</td>\n",
       "      <td>39.500</td>\n",
       "      <td>28.500</td>\n",
       "      <td>28.500</td>\n",
       "      <td>45.000</td>\n",
       "      <td>50.500</td>\n",
       "      <td>56.000</td>\n",
       "      <td>34.000</td>\n",
       "      <td>39.500</td>\n",
       "      <td>50.500</td>\n",
       "      <td>34.000</td>\n",
       "      <td>34.000</td>\n",
       "      <td>56.000</td>\n",
       "      <td>34.000</td>\n",
       "      <td>34.000</td>\n",
       "      <td>56.000</td>\n",
       "    </tr>\n",
       "    <tr>\n",
       "      <th>1</th>\n",
       "      <td>1356362</td>\n",
       "      <td>9</td>\n",
       "      <td>0</td>\n",
       "      <td>67.000</td>\n",
       "      <td>67.000</td>\n",
       "      <td>67.000</td>\n",
       "      <td>67.000</td>\n",
       "      <td>67.000</td>\n",
       "      <td>67.000</td>\n",
       "      <td>67.000</td>\n",
       "      <td>67.000</td>\n",
       "      <td>67.000</td>\n",
       "      <td>67.000</td>\n",
       "      <td>67.000</td>\n",
       "      <td>67.000</td>\n",
       "      <td>67.000</td>\n",
       "      <td>67.000</td>\n",
       "      <td>67.000</td>\n",
       "      <td>67.000</td>\n",
       "      <td>67.000</td>\n",
       "      <td>67.000</td>\n",
       "      <td>56.000</td>\n",
       "      <td>67.000</td>\n",
       "      <td>67.000</td>\n",
       "      <td>56.000</td>\n",
       "      <td>67.000</td>\n",
       "      <td>67.000</td>\n",
       "      <td>67.000</td>\n",
       "      <td>67.000</td>\n",
       "      <td>78.000</td>\n",
       "      <td>67.000</td>\n",
       "      <td>67.000</td>\n",
       "      <td>67.000</td>\n",
       "      <td>67.000</td>\n",
       "      <td>67.000</td>\n",
       "      <td>56.000</td>\n",
       "      <td>78.000</td>\n",
       "    </tr>\n",
       "    <tr>\n",
       "      <th>2</th>\n",
       "      <td>1356375</td>\n",
       "      <td>3</td>\n",
       "      <td>0</td>\n",
       "      <td>67.000</td>\n",
       "      <td>67.000</td>\n",
       "      <td>67.000</td>\n",
       "      <td>67.000</td>\n",
       "      <td>67.000</td>\n",
       "      <td>67.000</td>\n",
       "      <td>67.000</td>\n",
       "      <td>78.000</td>\n",
       "      <td>67.000</td>\n",
       "      <td>67.000</td>\n",
       "      <td>78.000</td>\n",
       "      <td>56.000</td>\n",
       "      <td>67.000</td>\n",
       "      <td>67.000</td>\n",
       "      <td>67.000</td>\n",
       "      <td>67.000</td>\n",
       "      <td>67.000</td>\n",
       "      <td>56.000</td>\n",
       "      <td>56.000</td>\n",
       "      <td>67.000</td>\n",
       "      <td>67.000</td>\n",
       "      <td>56.000</td>\n",
       "      <td>56.000</td>\n",
       "      <td>67.000</td>\n",
       "      <td>67.000</td>\n",
       "      <td>67.000</td>\n",
       "      <td>78.000</td>\n",
       "      <td>67.000</td>\n",
       "      <td>67.000</td>\n",
       "      <td>67.000</td>\n",
       "      <td>67.000</td>\n",
       "      <td>67.000</td>\n",
       "      <td>56.000</td>\n",
       "      <td>78.000</td>\n",
       "    </tr>\n",
       "    <tr>\n",
       "      <th>3</th>\n",
       "      <td>1356375</td>\n",
       "      <td>4</td>\n",
       "      <td>0</td>\n",
       "      <td>67.000</td>\n",
       "      <td>78.000</td>\n",
       "      <td>67.000</td>\n",
       "      <td>67.000</td>\n",
       "      <td>67.000</td>\n",
       "      <td>78.000</td>\n",
       "      <td>78.000</td>\n",
       "      <td>78.000</td>\n",
       "      <td>56.000</td>\n",
       "      <td>67.000</td>\n",
       "      <td>67.000</td>\n",
       "      <td>67.000</td>\n",
       "      <td>78.000</td>\n",
       "      <td>78.000</td>\n",
       "      <td>56.000</td>\n",
       "      <td>67.000</td>\n",
       "      <td>67.000</td>\n",
       "      <td>45.000</td>\n",
       "      <td>45.000</td>\n",
       "      <td>56.000</td>\n",
       "      <td>67.000</td>\n",
       "      <td>67.000</td>\n",
       "      <td>67.000</td>\n",
       "      <td>67.000</td>\n",
       "      <td>78.000</td>\n",
       "      <td>67.000</td>\n",
       "      <td>67.000</td>\n",
       "      <td>67.000</td>\n",
       "      <td>56.000</td>\n",
       "      <td>67.000</td>\n",
       "      <td>56.000</td>\n",
       "      <td>67.000</td>\n",
       "      <td>45.000</td>\n",
       "      <td>56.000</td>\n",
       "    </tr>\n",
       "    <tr>\n",
       "      <th>4</th>\n",
       "      <td>1356411</td>\n",
       "      <td>9</td>\n",
       "      <td>0</td>\n",
       "      <td>67.000</td>\n",
       "      <td>67.000</td>\n",
       "      <td>78.000</td>\n",
       "      <td>78.000</td>\n",
       "      <td>67.000</td>\n",
       "      <td>67.000</td>\n",
       "      <td>67.000</td>\n",
       "      <td>67.000</td>\n",
       "      <td>89.000</td>\n",
       "      <td>78.000</td>\n",
       "      <td>67.000</td>\n",
       "      <td>67.000</td>\n",
       "      <td>67.000</td>\n",
       "      <td>56.000</td>\n",
       "      <td>56.000</td>\n",
       "      <td>67.000</td>\n",
       "      <td>78.000</td>\n",
       "      <td>56.000</td>\n",
       "      <td>56.000</td>\n",
       "      <td>67.000</td>\n",
       "      <td>56.000</td>\n",
       "      <td>67.000</td>\n",
       "      <td>56.000</td>\n",
       "      <td>67.000</td>\n",
       "      <td>67.000</td>\n",
       "      <td>56.000</td>\n",
       "      <td>67.000</td>\n",
       "      <td>67.000</td>\n",
       "      <td>56.000</td>\n",
       "      <td>67.000</td>\n",
       "      <td>89.000</td>\n",
       "      <td>56.000</td>\n",
       "      <td>67.000</td>\n",
       "      <td>78.000</td>\n",
       "    </tr>\n",
       "  </tbody>\n",
       "</table>\n",
       "</div>"
      ],
      "text/plain": [
       "attribute_id  player_id  position_id  potential_label   4322   4323   4324  \\\n",
       "0               1355710            7                0 50.500 50.500 34.000   \n",
       "1               1356362            9                0 67.000 67.000 67.000   \n",
       "2               1356375            3                0 67.000 67.000 67.000   \n",
       "3               1356375            4                0 67.000 78.000 67.000   \n",
       "4               1356411            9                0 67.000 67.000 78.000   \n",
       "\n",
       "attribute_id   4325   4326   4327   4328   4329   4330   4332   4333   4335  \\\n",
       "0            50.500 45.000 45.000 45.000 45.000 50.500 56.000 39.500 34.000   \n",
       "1            67.000 67.000 67.000 67.000 67.000 67.000 67.000 67.000 67.000   \n",
       "2            67.000 67.000 67.000 67.000 78.000 67.000 67.000 78.000 56.000   \n",
       "3            67.000 67.000 78.000 78.000 78.000 56.000 67.000 67.000 67.000   \n",
       "4            78.000 67.000 67.000 67.000 67.000 89.000 78.000 67.000 67.000   \n",
       "\n",
       "attribute_id   4338   4339   4340   4341   4342   4343   4344   4345   4348  \\\n",
       "0            39.500 39.500 45.000 45.000 50.500 28.500 23.000 39.500 28.500   \n",
       "1            67.000 67.000 67.000 67.000 67.000 67.000 56.000 67.000 67.000   \n",
       "2            67.000 67.000 67.000 67.000 67.000 56.000 56.000 67.000 67.000   \n",
       "3            78.000 78.000 56.000 67.000 67.000 45.000 45.000 56.000 67.000   \n",
       "4            67.000 56.000 56.000 67.000 78.000 56.000 56.000 67.000 56.000   \n",
       "\n",
       "attribute_id   4349   4350   4351   4352   4353   4354   4355   4356   4357  \\\n",
       "0            28.500 45.000 50.500 56.000 34.000 39.500 50.500 34.000 34.000   \n",
       "1            56.000 67.000 67.000 67.000 67.000 78.000 67.000 67.000 67.000   \n",
       "2            56.000 56.000 67.000 67.000 67.000 78.000 67.000 67.000 67.000   \n",
       "3            67.000 67.000 67.000 78.000 67.000 67.000 67.000 56.000 67.000   \n",
       "4            67.000 56.000 67.000 67.000 56.000 67.000 67.000 56.000 67.000   \n",
       "\n",
       "attribute_id   4407   4408   4423   4426  \n",
       "0            56.000 34.000 34.000 56.000  \n",
       "1            67.000 67.000 56.000 78.000  \n",
       "2            67.000 67.000 56.000 78.000  \n",
       "3            56.000 67.000 45.000 56.000  \n",
       "4            89.000 56.000 67.000 78.000  "
      ]
     },
     "execution_count": 13,
     "metadata": {},
     "output_type": "execute_result"
    }
   ],
   "source": [
    "def label_encoder(dataframe, binary_col):\n",
    "    labelencoder = LabelEncoder()\n",
    "    dataframe[binary_col] = labelencoder.fit_transform(dataframe[binary_col])\n",
    "    return dataframe\n",
    "\n",
    "binary_cols = [col for col in df_table.columns if col in \"potential_label\"]\n",
    "\n",
    "for col in binary_cols:\n",
    "    label_encoder(df_table, col)\n",
    "\n",
    "df_table.head()"
   ]
  },
  {
   "cell_type": "code",
   "execution_count": 14,
   "id": "08f536ff",
   "metadata": {
    "execution": {
     "iopub.execute_input": "2023-12-15T20:30:59.437256Z",
     "iopub.status.busy": "2023-12-15T20:30:59.436658Z",
     "iopub.status.idle": "2023-12-15T20:30:59.445971Z",
     "shell.execute_reply": "2023-12-15T20:30:59.444833Z"
    },
    "papermill": {
     "duration": 0.024144,
     "end_time": "2023-12-15T20:30:59.448621",
     "exception": false,
     "start_time": "2023-12-15T20:30:59.424477",
     "status": "completed"
    },
    "tags": []
   },
   "outputs": [
    {
     "data": {
      "text/plain": [
       "potential_label\n",
       "0    215\n",
       "1     56\n",
       "Name: count, dtype: int64"
      ]
     },
     "execution_count": 14,
     "metadata": {},
     "output_type": "execute_result"
    }
   ],
   "source": [
    "df_table[\"potential_label\"].value_counts()"
   ]
  },
  {
   "cell_type": "markdown",
   "id": "14b90dd5",
   "metadata": {
    "papermill": {
     "duration": 0.010303,
     "end_time": "2023-12-15T20:30:59.469769",
     "exception": false,
     "start_time": "2023-12-15T20:30:59.459466",
     "status": "completed"
    },
    "tags": []
   },
   "source": [
    "# Adım 7: Sayısal değişken kolonlarını “num_cols” adıyla bir listeye atayınız."
   ]
  },
  {
   "cell_type": "code",
   "execution_count": 15,
   "id": "ae5ab16b",
   "metadata": {
    "execution": {
     "iopub.execute_input": "2023-12-15T20:30:59.493696Z",
     "iopub.status.busy": "2023-12-15T20:30:59.492855Z",
     "iopub.status.idle": "2023-12-15T20:30:59.502057Z",
     "shell.execute_reply": "2023-12-15T20:30:59.501175Z"
    },
    "papermill": {
     "duration": 0.024184,
     "end_time": "2023-12-15T20:30:59.504655",
     "exception": false,
     "start_time": "2023-12-15T20:30:59.480471",
     "status": "completed"
    },
    "tags": []
   },
   "outputs": [],
   "source": [
    "def grab_col_names(dataframe, cat_th=10, car_th=20):\n",
    "    \"\"\"\n",
    "    grab_col_names for given dataframe\n",
    "\n",
    "    :param dataframe:\n",
    "    :param cat_th:\n",
    "    :param car_th:\n",
    "    :return:\n",
    "    \"\"\"\n",
    "\n",
    "    cat_cols = [col for col in dataframe.columns if dataframe[col].dtypes == \"O\"]\n",
    "\n",
    "    num_but_cat = [col for col in dataframe.columns if dataframe[col].nunique() < cat_th and\n",
    "                   dataframe[col].dtypes != \"O\"]\n",
    "\n",
    "    cat_but_car = [col for col in dataframe.columns if dataframe[col].nunique() > car_th and\n",
    "                   dataframe[col].dtypes == \"O\"]\n",
    "\n",
    "    cat_cols = cat_cols + num_but_cat\n",
    "    cat_cols = [col for col in cat_cols if col not in cat_but_car]\n",
    "\n",
    "    num_cols = [col for col in dataframe.columns if dataframe[col].dtypes != \"O\"]\n",
    "    num_cols = [col for col in num_cols if col not in num_but_cat]\n",
    "\n",
    "    print(f\"Observations: {dataframe.shape[0]}\")\n",
    "    print(f\"Variables: {dataframe.shape[1]}\")\n",
    "    print(f'cat_cols: {len(cat_cols)}')\n",
    "    print(f'num_cols: {len(num_cols)}')\n",
    "    print(f'cat_but_car: {len(cat_but_car)}')\n",
    "    print(f'num_but_cat: {len(num_but_cat)}')\n",
    "\n",
    "    # cat_cols + num_cols + cat_but_car = değişken sayısı.\n",
    "    # num_but_cat cat_cols'un içerisinde zaten.\n",
    "    # dolayısıyla tüm şu 3 liste ile tüm değişkenler seçilmiş olacaktır: cat_cols + num_cols + cat_but_car\n",
    "    # num_but_cat sadece raporlama için verilmiştir.\n",
    "\n",
    "    return cat_cols, cat_but_car, num_cols"
   ]
  },
  {
   "cell_type": "code",
   "execution_count": 16,
   "id": "48b1a7e2",
   "metadata": {
    "execution": {
     "iopub.execute_input": "2023-12-15T20:30:59.601552Z",
     "iopub.status.busy": "2023-12-15T20:30:59.601063Z",
     "iopub.status.idle": "2023-12-15T20:30:59.616442Z",
     "shell.execute_reply": "2023-12-15T20:30:59.615318Z"
    },
    "papermill": {
     "duration": 0.030012,
     "end_time": "2023-12-15T20:30:59.618590",
     "exception": false,
     "start_time": "2023-12-15T20:30:59.588578",
     "status": "completed"
    },
    "tags": []
   },
   "outputs": [
    {
     "name": "stdout",
     "output_type": "stream",
     "text": [
      "Observations: 271\n",
      "Variables: 37\n",
      "cat_cols: 7\n",
      "num_cols: 30\n",
      "cat_but_car: 0\n",
      "num_but_cat: 7\n"
     ]
    }
   ],
   "source": [
    "cat_cols, cat_but_car, num_cols = grab_col_names(df_table)"
   ]
  },
  {
   "cell_type": "code",
   "execution_count": 17,
   "id": "4bc584a0",
   "metadata": {
    "execution": {
     "iopub.execute_input": "2023-12-15T20:30:59.644181Z",
     "iopub.status.busy": "2023-12-15T20:30:59.643500Z",
     "iopub.status.idle": "2023-12-15T20:30:59.650588Z",
     "shell.execute_reply": "2023-12-15T20:30:59.649534Z"
    },
    "papermill": {
     "duration": 0.022829,
     "end_time": "2023-12-15T20:30:59.652611",
     "exception": false,
     "start_time": "2023-12-15T20:30:59.629782",
     "status": "completed"
    },
    "tags": []
   },
   "outputs": [
    {
     "data": {
      "text/plain": [
       "['player_id',\n",
       " '4322',\n",
       " '4323',\n",
       " '4325',\n",
       " '4326',\n",
       " '4327',\n",
       " '4329',\n",
       " '4330',\n",
       " '4332',\n",
       " '4333',\n",
       " '4335',\n",
       " '4338',\n",
       " '4339',\n",
       " '4340',\n",
       " '4341',\n",
       " '4342',\n",
       " '4343',\n",
       " '4344',\n",
       " '4345',\n",
       " '4348',\n",
       " '4349',\n",
       " '4350',\n",
       " '4351',\n",
       " '4353',\n",
       " '4354',\n",
       " '4355',\n",
       " '4356',\n",
       " '4407',\n",
       " '4408',\n",
       " '4426']"
      ]
     },
     "execution_count": 17,
     "metadata": {},
     "output_type": "execute_result"
    }
   ],
   "source": [
    "num_cols"
   ]
  },
  {
   "cell_type": "markdown",
   "id": "8580331e",
   "metadata": {
    "papermill": {
     "duration": 0.011651,
     "end_time": "2023-12-15T20:30:59.675744",
     "exception": false,
     "start_time": "2023-12-15T20:30:59.664093",
     "status": "completed"
    },
    "tags": []
   },
   "source": [
    "Player id nümerik değil o yüzden onu çıkardık"
   ]
  },
  {
   "cell_type": "code",
   "execution_count": 18,
   "id": "6113c195",
   "metadata": {
    "execution": {
     "iopub.execute_input": "2023-12-15T20:30:59.701240Z",
     "iopub.status.busy": "2023-12-15T20:30:59.700538Z",
     "iopub.status.idle": "2023-12-15T20:30:59.705626Z",
     "shell.execute_reply": "2023-12-15T20:30:59.704739Z"
    },
    "papermill": {
     "duration": 0.020788,
     "end_time": "2023-12-15T20:30:59.707974",
     "exception": false,
     "start_time": "2023-12-15T20:30:59.687186",
     "status": "completed"
    },
    "tags": []
   },
   "outputs": [],
   "source": [
    "num_cols = [col for col in num_cols if col not in \"player_id\"]"
   ]
  },
  {
   "cell_type": "markdown",
   "id": "193f6851",
   "metadata": {
    "papermill": {
     "duration": 0.011084,
     "end_time": "2023-12-15T20:30:59.730622",
     "exception": false,
     "start_time": "2023-12-15T20:30:59.719538",
     "status": "completed"
    },
    "tags": []
   },
   "source": [
    "# Adım 8: Kaydettiğiniz bütün “num_cols” değişkenlerindeki veriyi ölçeklendirmek için StandardScaler uygulayınız."
   ]
  },
  {
   "cell_type": "code",
   "execution_count": 19,
   "id": "1a96c650",
   "metadata": {
    "execution": {
     "iopub.execute_input": "2023-12-15T20:30:59.755862Z",
     "iopub.status.busy": "2023-12-15T20:30:59.755129Z",
     "iopub.status.idle": "2023-12-15T20:30:59.786519Z",
     "shell.execute_reply": "2023-12-15T20:30:59.785303Z"
    },
    "papermill": {
     "duration": 0.046857,
     "end_time": "2023-12-15T20:30:59.788816",
     "exception": false,
     "start_time": "2023-12-15T20:30:59.741959",
     "status": "completed"
    },
    "tags": []
   },
   "outputs": [
    {
     "data": {
      "text/html": [
       "<div>\n",
       "<style scoped>\n",
       "    .dataframe tbody tr th:only-of-type {\n",
       "        vertical-align: middle;\n",
       "    }\n",
       "\n",
       "    .dataframe tbody tr th {\n",
       "        vertical-align: top;\n",
       "    }\n",
       "\n",
       "    .dataframe thead th {\n",
       "        text-align: right;\n",
       "    }\n",
       "</style>\n",
       "<table border=\"1\" class=\"dataframe\">\n",
       "  <thead>\n",
       "    <tr style=\"text-align: right;\">\n",
       "      <th>attribute_id</th>\n",
       "      <th>4322</th>\n",
       "      <th>4323</th>\n",
       "      <th>4325</th>\n",
       "      <th>4326</th>\n",
       "      <th>4327</th>\n",
       "      <th>4329</th>\n",
       "      <th>4330</th>\n",
       "      <th>4332</th>\n",
       "      <th>4333</th>\n",
       "      <th>4335</th>\n",
       "      <th>4338</th>\n",
       "      <th>4339</th>\n",
       "      <th>4340</th>\n",
       "      <th>4341</th>\n",
       "      <th>4342</th>\n",
       "      <th>4343</th>\n",
       "      <th>4344</th>\n",
       "      <th>4345</th>\n",
       "      <th>4348</th>\n",
       "      <th>4349</th>\n",
       "      <th>4350</th>\n",
       "      <th>4351</th>\n",
       "      <th>4353</th>\n",
       "      <th>4354</th>\n",
       "      <th>4355</th>\n",
       "      <th>4356</th>\n",
       "      <th>4407</th>\n",
       "      <th>4408</th>\n",
       "      <th>4426</th>\n",
       "    </tr>\n",
       "  </thead>\n",
       "  <tbody>\n",
       "    <tr>\n",
       "      <th>0</th>\n",
       "      <td>-0.543</td>\n",
       "      <td>-0.559</td>\n",
       "      <td>-0.438</td>\n",
       "      <td>-0.767</td>\n",
       "      <td>-0.795</td>\n",
       "      <td>-0.792</td>\n",
       "      <td>-0.446</td>\n",
       "      <td>-0.123</td>\n",
       "      <td>-1.224</td>\n",
       "      <td>-1.036</td>\n",
       "      <td>-1.126</td>\n",
       "      <td>-1.009</td>\n",
       "      <td>-0.542</td>\n",
       "      <td>-0.690</td>\n",
       "      <td>-0.535</td>\n",
       "      <td>-1.067</td>\n",
       "      <td>-1.206</td>\n",
       "      <td>-1.005</td>\n",
       "      <td>-1.314</td>\n",
       "      <td>-1.042</td>\n",
       "      <td>-0.693</td>\n",
       "      <td>-0.436</td>\n",
       "      <td>-1.282</td>\n",
       "      <td>-1.132</td>\n",
       "      <td>-0.495</td>\n",
       "      <td>-1.235</td>\n",
       "      <td>-0.143</td>\n",
       "      <td>-1.487</td>\n",
       "      <td>-0.253</td>\n",
       "    </tr>\n",
       "    <tr>\n",
       "      <th>1</th>\n",
       "      <td>0.595</td>\n",
       "      <td>0.561</td>\n",
       "      <td>0.683</td>\n",
       "      <td>0.723</td>\n",
       "      <td>0.723</td>\n",
       "      <td>0.404</td>\n",
       "      <td>0.728</td>\n",
       "      <td>0.691</td>\n",
       "      <td>0.459</td>\n",
       "      <td>0.996</td>\n",
       "      <td>0.632</td>\n",
       "      <td>0.840</td>\n",
       "      <td>0.912</td>\n",
       "      <td>0.799</td>\n",
       "      <td>0.588</td>\n",
       "      <td>1.230</td>\n",
       "      <td>0.750</td>\n",
       "      <td>0.742</td>\n",
       "      <td>0.879</td>\n",
       "      <td>0.670</td>\n",
       "      <td>0.848</td>\n",
       "      <td>0.717</td>\n",
       "      <td>0.814</td>\n",
       "      <td>1.053</td>\n",
       "      <td>0.632</td>\n",
       "      <td>0.915</td>\n",
       "      <td>0.530</td>\n",
       "      <td>0.669</td>\n",
       "      <td>1.042</td>\n",
       "    </tr>\n",
       "    <tr>\n",
       "      <th>2</th>\n",
       "      <td>0.595</td>\n",
       "      <td>0.561</td>\n",
       "      <td>0.683</td>\n",
       "      <td>0.723</td>\n",
       "      <td>0.723</td>\n",
       "      <td>1.002</td>\n",
       "      <td>0.728</td>\n",
       "      <td>0.691</td>\n",
       "      <td>1.132</td>\n",
       "      <td>0.319</td>\n",
       "      <td>0.632</td>\n",
       "      <td>0.840</td>\n",
       "      <td>0.912</td>\n",
       "      <td>0.799</td>\n",
       "      <td>0.588</td>\n",
       "      <td>0.574</td>\n",
       "      <td>0.750</td>\n",
       "      <td>0.742</td>\n",
       "      <td>0.879</td>\n",
       "      <td>0.670</td>\n",
       "      <td>0.077</td>\n",
       "      <td>0.717</td>\n",
       "      <td>0.814</td>\n",
       "      <td>1.053</td>\n",
       "      <td>0.632</td>\n",
       "      <td>0.915</td>\n",
       "      <td>0.530</td>\n",
       "      <td>0.669</td>\n",
       "      <td>1.042</td>\n",
       "    </tr>\n",
       "    <tr>\n",
       "      <th>3</th>\n",
       "      <td>0.595</td>\n",
       "      <td>1.308</td>\n",
       "      <td>0.683</td>\n",
       "      <td>0.723</td>\n",
       "      <td>1.482</td>\n",
       "      <td>1.002</td>\n",
       "      <td>-0.055</td>\n",
       "      <td>0.691</td>\n",
       "      <td>0.459</td>\n",
       "      <td>0.996</td>\n",
       "      <td>1.335</td>\n",
       "      <td>1.580</td>\n",
       "      <td>0.185</td>\n",
       "      <td>0.799</td>\n",
       "      <td>0.588</td>\n",
       "      <td>-0.083</td>\n",
       "      <td>0.098</td>\n",
       "      <td>0.043</td>\n",
       "      <td>0.879</td>\n",
       "      <td>1.355</td>\n",
       "      <td>0.848</td>\n",
       "      <td>0.717</td>\n",
       "      <td>0.814</td>\n",
       "      <td>0.428</td>\n",
       "      <td>0.632</td>\n",
       "      <td>0.198</td>\n",
       "      <td>-0.143</td>\n",
       "      <td>0.669</td>\n",
       "      <td>-0.253</td>\n",
       "    </tr>\n",
       "    <tr>\n",
       "      <th>4</th>\n",
       "      <td>0.595</td>\n",
       "      <td>0.561</td>\n",
       "      <td>1.430</td>\n",
       "      <td>0.723</td>\n",
       "      <td>0.723</td>\n",
       "      <td>0.404</td>\n",
       "      <td>2.294</td>\n",
       "      <td>1.505</td>\n",
       "      <td>0.459</td>\n",
       "      <td>0.996</td>\n",
       "      <td>0.632</td>\n",
       "      <td>0.101</td>\n",
       "      <td>0.185</td>\n",
       "      <td>0.799</td>\n",
       "      <td>1.337</td>\n",
       "      <td>0.574</td>\n",
       "      <td>0.750</td>\n",
       "      <td>0.742</td>\n",
       "      <td>0.252</td>\n",
       "      <td>1.355</td>\n",
       "      <td>0.077</td>\n",
       "      <td>0.717</td>\n",
       "      <td>0.115</td>\n",
       "      <td>0.428</td>\n",
       "      <td>0.632</td>\n",
       "      <td>0.198</td>\n",
       "      <td>1.874</td>\n",
       "      <td>-0.050</td>\n",
       "      <td>1.042</td>\n",
       "    </tr>\n",
       "  </tbody>\n",
       "</table>\n",
       "</div>"
      ],
      "text/plain": [
       "attribute_id   4322   4323   4325   4326   4327   4329   4330   4332   4333  \\\n",
       "0            -0.543 -0.559 -0.438 -0.767 -0.795 -0.792 -0.446 -0.123 -1.224   \n",
       "1             0.595  0.561  0.683  0.723  0.723  0.404  0.728  0.691  0.459   \n",
       "2             0.595  0.561  0.683  0.723  0.723  1.002  0.728  0.691  1.132   \n",
       "3             0.595  1.308  0.683  0.723  1.482  1.002 -0.055  0.691  0.459   \n",
       "4             0.595  0.561  1.430  0.723  0.723  0.404  2.294  1.505  0.459   \n",
       "\n",
       "attribute_id   4335   4338   4339   4340   4341   4342   4343   4344   4345  \\\n",
       "0            -1.036 -1.126 -1.009 -0.542 -0.690 -0.535 -1.067 -1.206 -1.005   \n",
       "1             0.996  0.632  0.840  0.912  0.799  0.588  1.230  0.750  0.742   \n",
       "2             0.319  0.632  0.840  0.912  0.799  0.588  0.574  0.750  0.742   \n",
       "3             0.996  1.335  1.580  0.185  0.799  0.588 -0.083  0.098  0.043   \n",
       "4             0.996  0.632  0.101  0.185  0.799  1.337  0.574  0.750  0.742   \n",
       "\n",
       "attribute_id   4348   4349   4350   4351   4353   4354   4355   4356   4407  \\\n",
       "0            -1.314 -1.042 -0.693 -0.436 -1.282 -1.132 -0.495 -1.235 -0.143   \n",
       "1             0.879  0.670  0.848  0.717  0.814  1.053  0.632  0.915  0.530   \n",
       "2             0.879  0.670  0.077  0.717  0.814  1.053  0.632  0.915  0.530   \n",
       "3             0.879  1.355  0.848  0.717  0.814  0.428  0.632  0.198 -0.143   \n",
       "4             0.252  1.355  0.077  0.717  0.115  0.428  0.632  0.198  1.874   \n",
       "\n",
       "attribute_id   4408   4426  \n",
       "0            -1.487 -0.253  \n",
       "1             0.669  1.042  \n",
       "2             0.669  1.042  \n",
       "3             0.669 -0.253  \n",
       "4            -0.050  1.042  "
      ]
     },
     "execution_count": 19,
     "metadata": {},
     "output_type": "execute_result"
    }
   ],
   "source": [
    "scaler = StandardScaler()\n",
    "df_table[num_cols] = scaler.fit_transform(df_table[num_cols])\n",
    "df_table[num_cols].head()"
   ]
  },
  {
   "cell_type": "markdown",
   "id": "bfab04bf",
   "metadata": {
    "papermill": {
     "duration": 0.011299,
     "end_time": "2023-12-15T20:30:59.811680",
     "exception": false,
     "start_time": "2023-12-15T20:30:59.800381",
     "status": "completed"
    },
    "tags": []
   },
   "source": [
    "# Adım 9: Elimizdeki veri seti üzerinden minimum hata ile futbolcuların potansiyel etiketlerini tahmin eden bir makine öğrenmesi modeli geliştiriniz. (Roc_auc, f1, precision, recall, accuracy metriklerini yazdırınız.)\n"
   ]
  },
  {
   "cell_type": "code",
   "execution_count": 20,
   "id": "b5438752",
   "metadata": {
    "execution": {
     "iopub.execute_input": "2023-12-15T20:30:59.837457Z",
     "iopub.status.busy": "2023-12-15T20:30:59.836488Z",
     "iopub.status.idle": "2023-12-15T20:30:59.843907Z",
     "shell.execute_reply": "2023-12-15T20:30:59.842723Z"
    },
    "papermill": {
     "duration": 0.022769,
     "end_time": "2023-12-15T20:30:59.846067",
     "exception": false,
     "start_time": "2023-12-15T20:30:59.823298",
     "status": "completed"
    },
    "tags": []
   },
   "outputs": [],
   "source": [
    "y = df_table[\"potential_label\"]\n",
    "X = df_table.drop([\"potential_label\", \"position_id\", \"player_id\"], axis=1)"
   ]
  },
  {
   "cell_type": "markdown",
   "id": "df0d2ff0",
   "metadata": {
    "papermill": {
     "duration": 0.011387,
     "end_time": "2023-12-15T20:30:59.869044",
     "exception": false,
     "start_time": "2023-12-15T20:30:59.857657",
     "status": "completed"
    },
    "tags": []
   },
   "source": [
    "#Base model"
   ]
  },
  {
   "cell_type": "code",
   "execution_count": 21,
   "id": "52d4bd8d",
   "metadata": {
    "execution": {
     "iopub.execute_input": "2023-12-15T20:30:59.894745Z",
     "iopub.status.busy": "2023-12-15T20:30:59.893700Z",
     "iopub.status.idle": "2023-12-15T20:31:02.192126Z",
     "shell.execute_reply": "2023-12-15T20:31:02.190133Z"
    },
    "papermill": {
     "duration": 2.314351,
     "end_time": "2023-12-15T20:31:02.194964",
     "exception": false,
     "start_time": "2023-12-15T20:30:59.880613",
     "status": "completed"
    },
    "tags": []
   },
   "outputs": [
    {
     "name": "stdout",
     "output_type": "stream",
     "text": [
      "Base Models....\n",
      "accuracy: 0.8486 (LR) \n",
      "accuracy: 0.8044 (KNN) \n",
      "accuracy: 0.7934 (SVC) \n",
      "accuracy: 0.8193 (CART) \n",
      "accuracy: 0.8781 (RF) \n",
      "accuracy: 0.823 (Adaboost) \n",
      "accuracy: 0.8414 (GBM) \n",
      "accuracy: 0.8562 (XGBoost) \n",
      "accuracy: 0.8598 (LightGBM) \n"
     ]
    }
   ],
   "source": [
    "def base_models(X, y, scoring=\"roc_auc\"):\n",
    "    print(\"Base Models....\")\n",
    "    classifiers = [('LR', LogisticRegression()),\n",
    "                   ('KNN', KNeighborsClassifier()),\n",
    "                   (\"SVC\", SVC()),\n",
    "                   (\"CART\", DecisionTreeClassifier()),\n",
    "                   (\"RF\", RandomForestClassifier()),\n",
    "                   ('Adaboost', AdaBoostClassifier()),\n",
    "                   ('GBM', GradientBoostingClassifier()),\n",
    "                   ('XGBoost', XGBClassifier(use_label_encoder=False, eval_metric='logloss')),\n",
    "                   ('LightGBM', LGBMClassifier()),\n",
    "                   # ('CatBoost', CatBoostClassifier(verbose=False))\n",
    "                   ]\n",
    "\n",
    "    for name, classifier in classifiers:\n",
    "        cv_results = cross_validate(classifier, X, y, cv=3, scoring=scoring)\n",
    "        print(f\"{scoring}: {round(cv_results['test_score'].mean(), 4)} ({name}) \")\n",
    "\n",
    "base_models(X, y, scoring=\"accuracy\")"
   ]
  },
  {
   "cell_type": "markdown",
   "id": "c1d8119c",
   "metadata": {
    "papermill": {
     "duration": 0.012219,
     "end_time": "2023-12-15T20:31:02.220235",
     "exception": false,
     "start_time": "2023-12-15T20:31:02.208016",
     "status": "completed"
    },
    "tags": []
   },
   "source": [
    "Base Models....\n",
    "accuracy: 0.8486 (LR) \n",
    "accuracy: 0.8044 (KNN) \n",
    "accuracy: 0.7934 (SVC) \n",
    "accuracy: 0.8046 (CART) \n",
    "accuracy: 0.867 (RF) \n",
    "accuracy: 0.823 (Adaboost) \n",
    "accuracy: 0.8488 (GBM) \n",
    "accuracy: 0.8562 (XGBoost) \n",
    "accuracy: 0.8598 (LightGBM) \n",
    "\n",
    "\n",
    "\n",
    "BEN \n",
    "accuracy: 0.867 (RF) \n",
    "accuracy: 0.8562 (XGBoost) \n",
    "accuracy: 0.8598 (LightGBM) \n",
    "seçtim"
   ]
  },
  {
   "cell_type": "markdown",
   "id": "b91a4835",
   "metadata": {
    "papermill": {
     "duration": 0.012005,
     "end_time": "2023-12-15T20:31:02.244862",
     "exception": false,
     "start_time": "2023-12-15T20:31:02.232857",
     "status": "completed"
    },
    "tags": []
   },
   "source": [
    "RF "
   ]
  },
  {
   "cell_type": "code",
   "execution_count": 22,
   "id": "cbe81cf4",
   "metadata": {
    "execution": {
     "iopub.execute_input": "2023-12-15T20:31:02.271820Z",
     "iopub.status.busy": "2023-12-15T20:31:02.271336Z",
     "iopub.status.idle": "2023-12-15T20:31:36.873016Z",
     "shell.execute_reply": "2023-12-15T20:31:36.872062Z"
    },
    "papermill": {
     "duration": 34.63123,
     "end_time": "2023-12-15T20:31:36.888355",
     "exception": false,
     "start_time": "2023-12-15T20:31:02.257125",
     "status": "completed"
    },
    "tags": []
   },
   "outputs": [
    {
     "name": "stdout",
     "output_type": "stream",
     "text": [
      "Fitting 3 folds for each of 24 candidates, totalling 72 fits\n"
     ]
    },
    {
     "data": {
      "text/plain": [
       "0.8817663817663818"
      ]
     },
     "execution_count": 22,
     "metadata": {},
     "output_type": "execute_result"
    }
   ],
   "source": [
    "rf_model = RandomForestClassifier(random_state=17)\n",
    "\n",
    "rf_params = {\"max_depth\": [8, None],\n",
    "             \"max_features\": [5, 7, \"auto\"],\n",
    "             \"min_samples_split\": [15, 20],\n",
    "             \"n_estimators\": [200, 300]}\n",
    "\n",
    "rf_best_grid = GridSearchCV(rf_model, rf_params, cv=3, n_jobs=-1, verbose=True).fit(X, y)\n",
    "\n",
    "rf_best_grid.best_params_\n",
    "\n",
    "rf_final = rf_model.set_params(**rf_best_grid.best_params_, random_state=17).fit(X, y)\n",
    "\n",
    "cv_results = cross_validate(rf_final, X, y, cv=3, scoring=[\"accuracy\", \"f1\", \"roc_auc\"])\n",
    "cv_results['test_accuracy'].mean()"
   ]
  },
  {
   "cell_type": "code",
   "execution_count": 23,
   "id": "d17bd0fb",
   "metadata": {
    "execution": {
     "iopub.execute_input": "2023-12-15T20:31:36.918075Z",
     "iopub.status.busy": "2023-12-15T20:31:36.916926Z",
     "iopub.status.idle": "2023-12-15T20:31:36.924525Z",
     "shell.execute_reply": "2023-12-15T20:31:36.923166Z"
    },
    "papermill": {
     "duration": 0.02529,
     "end_time": "2023-12-15T20:31:36.926926",
     "exception": false,
     "start_time": "2023-12-15T20:31:36.901636",
     "status": "completed"
    },
    "tags": []
   },
   "outputs": [
    {
     "data": {
      "text/plain": [
       "0.5934682428371068"
      ]
     },
     "execution_count": 23,
     "metadata": {},
     "output_type": "execute_result"
    }
   ],
   "source": [
    "cv_results['test_f1'].mean()"
   ]
  },
  {
   "cell_type": "code",
   "execution_count": 24,
   "id": "be484678",
   "metadata": {
    "execution": {
     "iopub.execute_input": "2023-12-15T20:31:36.956862Z",
     "iopub.status.busy": "2023-12-15T20:31:36.955932Z",
     "iopub.status.idle": "2023-12-15T20:31:36.963963Z",
     "shell.execute_reply": "2023-12-15T20:31:36.962847Z"
    },
    "papermill": {
     "duration": 0.025679,
     "end_time": "2023-12-15T20:31:36.966321",
     "exception": false,
     "start_time": "2023-12-15T20:31:36.940642",
     "status": "completed"
    },
    "tags": []
   },
   "outputs": [
    {
     "data": {
      "text/plain": [
       "0.887351970824296"
      ]
     },
     "execution_count": 24,
     "metadata": {},
     "output_type": "execute_result"
    }
   ],
   "source": [
    "cv_results['test_roc_auc'].mean()"
   ]
  },
  {
   "cell_type": "markdown",
   "id": "c4a7f31a",
   "metadata": {
    "papermill": {
     "duration": 0.014207,
     "end_time": "2023-12-15T20:31:36.993515",
     "exception": false,
     "start_time": "2023-12-15T20:31:36.979308",
     "status": "completed"
    },
    "tags": []
   },
   "source": [
    "XGBOOST"
   ]
  },
  {
   "cell_type": "code",
   "execution_count": 25,
   "id": "f29694fb",
   "metadata": {
    "execution": {
     "iopub.execute_input": "2023-12-15T20:31:37.023795Z",
     "iopub.status.busy": "2023-12-15T20:31:37.023343Z",
     "iopub.status.idle": "2023-12-15T20:31:41.327712Z",
     "shell.execute_reply": "2023-12-15T20:31:41.326602Z"
    },
    "papermill": {
     "duration": 4.323065,
     "end_time": "2023-12-15T20:31:41.330196",
     "exception": false,
     "start_time": "2023-12-15T20:31:37.007131",
     "status": "completed"
    },
    "tags": []
   },
   "outputs": [
    {
     "name": "stdout",
     "output_type": "stream",
     "text": [
      "Fitting 5 folds for each of 8 candidates, totalling 40 fits\n"
     ]
    },
    {
     "data": {
      "text/plain": [
       "0.873784355179704"
      ]
     },
     "execution_count": 25,
     "metadata": {},
     "output_type": "execute_result"
    }
   ],
   "source": [
    "xgboost_model = XGBClassifier(random_state=17)\n",
    "\n",
    "xgboost_params = {\"learning_rate\": [0.1, 0.01],\n",
    "                  \"max_depth\": [5, 8],\n",
    "                  \"n_estimators\": [100, 200]}\n",
    "xgboost_best_grid = GridSearchCV(xgboost_model, xgboost_params, cv=5, n_jobs=-1, verbose=True).fit(X, y)\n",
    "\n",
    "xgboost_final = xgboost_model.set_params(**xgboost_best_grid.best_params_, random_state=17).fit(X, y)\n",
    "\n",
    "cv_results = cross_validate(xgboost_final, X, y, cv=5, scoring=[\"accuracy\", \"f1\", \"roc_auc\"])\n",
    "cv_results['test_accuracy'].mean()\n",
    "cv_results['test_f1'].mean()\n",
    "cv_results['test_roc_auc'].mean()"
   ]
  },
  {
   "cell_type": "markdown",
   "id": "da656681",
   "metadata": {
    "papermill": {
     "duration": 0.012739,
     "end_time": "2023-12-15T20:31:41.356208",
     "exception": false,
     "start_time": "2023-12-15T20:31:41.343469",
     "status": "completed"
    },
    "tags": []
   },
   "source": [
    "LIGHTGBM"
   ]
  },
  {
   "cell_type": "code",
   "execution_count": 26,
   "id": "ae8167b0",
   "metadata": {
    "execution": {
     "iopub.execute_input": "2023-12-15T20:31:41.384384Z",
     "iopub.status.busy": "2023-12-15T20:31:41.383933Z",
     "iopub.status.idle": "2023-12-15T20:31:41.807581Z",
     "shell.execute_reply": "2023-12-15T20:31:41.805927Z"
    },
    "papermill": {
     "duration": 0.440492,
     "end_time": "2023-12-15T20:31:41.809800",
     "exception": true,
     "start_time": "2023-12-15T20:31:41.369308",
     "status": "failed"
    },
    "tags": []
   },
   "outputs": [
    {
     "ename": "NameError",
     "evalue": "name 'lgbm_params' is not defined",
     "output_type": "error",
     "traceback": [
      "\u001b[0;31m---------------------------------------------------------------------------\u001b[0m",
      "\u001b[0;31mNameError\u001b[0m                                 Traceback (most recent call last)",
      "Cell \u001b[0;32mIn[26], line 6\u001b[0m\n\u001b[1;32m      1\u001b[0m lgbm_model \u001b[38;5;241m=\u001b[39m LGBMClassifier(random_state\u001b[38;5;241m=\u001b[39m\u001b[38;5;241m17\u001b[39m)\n\u001b[1;32m      3\u001b[0m lightgbm_params \u001b[38;5;241m=\u001b[39m {\u001b[38;5;124m\"\u001b[39m\u001b[38;5;124mlearning_rate\u001b[39m\u001b[38;5;124m\"\u001b[39m: [\u001b[38;5;241m0.01\u001b[39m, \u001b[38;5;241m0.1\u001b[39m],\n\u001b[1;32m      4\u001b[0m                    \u001b[38;5;124m\"\u001b[39m\u001b[38;5;124mn_estimators\u001b[39m\u001b[38;5;124m\"\u001b[39m: [\u001b[38;5;241m300\u001b[39m, \u001b[38;5;241m500\u001b[39m]}\n\u001b[0;32m----> 6\u001b[0m lgbm_best_grid \u001b[38;5;241m=\u001b[39m GridSearchCV(lgbm_model, \u001b[43mlgbm_params\u001b[49m, cv\u001b[38;5;241m=\u001b[39m\u001b[38;5;241m5\u001b[39m, n_jobs\u001b[38;5;241m=\u001b[39m\u001b[38;5;241m-\u001b[39m\u001b[38;5;241m1\u001b[39m, verbose\u001b[38;5;241m=\u001b[39m\u001b[38;5;28;01mTrue\u001b[39;00m)\u001b[38;5;241m.\u001b[39mfit(X, y)\n\u001b[1;32m      8\u001b[0m lgbm_final \u001b[38;5;241m=\u001b[39m lgbm_model\u001b[38;5;241m.\u001b[39mset_params(\u001b[38;5;241m*\u001b[39m\u001b[38;5;241m*\u001b[39mlgbm_best_grid\u001b[38;5;241m.\u001b[39mbest_params_, random_state\u001b[38;5;241m=\u001b[39m\u001b[38;5;241m17\u001b[39m)\u001b[38;5;241m.\u001b[39mfit(X, y)\n\u001b[1;32m     10\u001b[0m cv_results \u001b[38;5;241m=\u001b[39m cross_validate(lgbm_final, X, y, cv\u001b[38;5;241m=\u001b[39m\u001b[38;5;241m5\u001b[39m, scoring\u001b[38;5;241m=\u001b[39m[\u001b[38;5;124m\"\u001b[39m\u001b[38;5;124maccuracy\u001b[39m\u001b[38;5;124m\"\u001b[39m, \u001b[38;5;124m\"\u001b[39m\u001b[38;5;124mf1\u001b[39m\u001b[38;5;124m\"\u001b[39m, \u001b[38;5;124m\"\u001b[39m\u001b[38;5;124mroc_auc\u001b[39m\u001b[38;5;124m\"\u001b[39m])\n",
      "\u001b[0;31mNameError\u001b[0m: name 'lgbm_params' is not defined"
     ]
    }
   ],
   "source": [
    "lgbm_model = LGBMClassifier(random_state=17)\n",
    "\n",
    "lightgbm_params = {\"learning_rate\": [0.01, 0.1],\n",
    "                   \"n_estimators\": [300, 500]}\n",
    "\n",
    "lgbm_best_grid = GridSearchCV(lgbm_model, lgbm_params, cv=5, n_jobs=-1, verbose=True).fit(X, y)\n",
    "\n",
    "lgbm_final = lgbm_model.set_params(**lgbm_best_grid.best_params_, random_state=17).fit(X, y)\n",
    "\n",
    "cv_results = cross_validate(lgbm_final, X, y, cv=5, scoring=[\"accuracy\", \"f1\", \"roc_auc\"])\n",
    "\n",
    "cv_results['test_accuracy'].mean()\n",
    "cv_results['test_f1'].mean()\n",
    "cv_results['test_roc_auc'].mean()"
   ]
  },
  {
   "cell_type": "markdown",
   "id": "fbf4c052",
   "metadata": {
    "papermill": {
     "duration": null,
     "end_time": null,
     "exception": null,
     "start_time": null,
     "status": "pending"
    },
    "tags": []
   },
   "source": [
    "# Adım 10: Değişkenlerin önem düzeyini belirten feature_importance fonksiyonunu kullanarak özelliklerin sıralamasını çizdiriniz."
   ]
  },
  {
   "cell_type": "code",
   "execution_count": null,
   "id": "5517f36c",
   "metadata": {
    "papermill": {
     "duration": null,
     "end_time": null,
     "exception": null,
     "start_time": null,
     "status": "pending"
    },
    "tags": []
   },
   "outputs": [],
   "source": [
    "def plot_importance(model, features, num=len(X), save=False):\n",
    "    feature_imp = pd.DataFrame({'Value': model.feature_importances_, 'Feature': features.columns})\n",
    "    plt.figure(figsize=(10, 10))\n",
    "    sns.set(font_scale=1)\n",
    "    sns.barplot(x=\"Value\", y=\"Feature\", data=feature_imp.sort_values(by=\"Value\",\n",
    "                                                                     ascending=False)[0:num])\n",
    "    plt.title('Features')\n",
    "    plt.tight_layout()\n",
    "    plt.show(block=True)\n",
    "    if save:\n",
    "        plt.savefig('importances.png')\n",
    "\n",
    "plot_importance(rf_final, X)\n",
    "plot_importance(lgbm_final, X)\n",
    "plot_importance(xgboost_final, X)"
   ]
  }
 ],
 "metadata": {
  "kaggle": {
   "accelerator": "none",
   "dataSources": [
    {
     "datasetId": 4102992,
     "sourceId": 7114803,
     "sourceType": "datasetVersion"
    }
   ],
   "dockerImageVersionId": 30587,
   "isGpuEnabled": false,
   "isInternetEnabled": true,
   "language": "python",
   "sourceType": "notebook"
  },
  "kernelspec": {
   "display_name": "Python 3",
   "language": "python",
   "name": "python3"
  },
  "language_info": {
   "codemirror_mode": {
    "name": "ipython",
    "version": 3
   },
   "file_extension": ".py",
   "mimetype": "text/x-python",
   "name": "python",
   "nbconvert_exporter": "python",
   "pygments_lexer": "ipython3",
   "version": "3.10.12"
  },
  "papermill": {
   "default_parameters": {},
   "duration": 53.508993,
   "end_time": "2023-12-15T20:31:42.948173",
   "environment_variables": {},
   "exception": true,
   "input_path": "__notebook__.ipynb",
   "output_path": "__notebook__.ipynb",
   "parameters": {},
   "start_time": "2023-12-15T20:30:49.439180",
   "version": "2.4.0"
  }
 },
 "nbformat": 4,
 "nbformat_minor": 5
}
